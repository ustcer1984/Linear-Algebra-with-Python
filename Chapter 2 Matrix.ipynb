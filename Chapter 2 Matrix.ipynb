{
 "cells": [
  {
   "cell_type": "code",
   "execution_count": 1,
   "metadata": {},
   "outputs": [],
   "source": [
    "# setup environment\n",
    "import numpy as np\n",
    "import pandas as pd\n",
    "import scipy.linalg as la\n",
    "import sympy"
   ]
  },
  {
   "cell_type": "markdown",
   "metadata": {},
   "source": [
    "# 2 Matrix\n",
    "## 2.1 Matrix\n",
    "### 2.1.1 Creation of matrix\n",
    "\n",
    "A matrix is a combination of several vectors each represented in a single column."
   ]
  },
  {
   "cell_type": "code",
   "execution_count": 2,
   "metadata": {},
   "outputs": [
    {
     "name": "stdout",
     "output_type": "stream",
     "text": [
      "[[ 2 -3]\n",
      " [ 1  4]\n",
      " [-1  1]]\n"
     ]
    }
   ],
   "source": [
    "# combine vectors into a matrix\n",
    "a = np.array([[2], \n",
    "              [1], \n",
    "              [-1]])\n",
    "b = np.array([[-3], \n",
    "              [4], \n",
    "              [1]])\n",
    "A = np.hstack((a, b)) # column wise stack\n",
    "print(A)"
   ]
  },
  {
   "cell_type": "markdown",
   "metadata": {},
   "source": [
    "### 2.1.2 Object slicing"
   ]
  },
  {
   "cell_type": "code",
   "execution_count": 3,
   "metadata": {},
   "outputs": [
    {
     "data": {
      "text/plain": [
       "(2, 3)"
      ]
     },
     "execution_count": 3,
     "metadata": {},
     "output_type": "execute_result"
    }
   ],
   "source": [
    "A = np.array([[2, 4, 9],\n",
    "              [3, 6, 7]])\n",
    "A.shape"
   ]
  },
  {
   "cell_type": "code",
   "execution_count": 4,
   "metadata": {},
   "outputs": [
    {
     "data": {
      "text/plain": [
       "7"
      ]
     },
     "execution_count": 4,
     "metadata": {},
     "output_type": "execute_result"
    }
   ],
   "source": [
    "A[1,2] # row 1, col 2 (index starts from 0)"
   ]
  },
  {
   "cell_type": "code",
   "execution_count": 5,
   "metadata": {},
   "outputs": [
    {
     "name": "stdout",
     "output_type": "stream",
     "text": [
      "[4 6]\n",
      "[[4]\n",
      " [6]]\n"
     ]
    }
   ],
   "source": [
    "# all rows, col 1\n",
    "print(A[:, 1])   # result is 1D array\n",
    "print(A[:, 1:2]) # result is 2D array"
   ]
  },
  {
   "cell_type": "markdown",
   "metadata": {},
   "source": [
    "### Arithmetic operations\n",
    "\n",
    "Between the matrices, the arithmetic operations are done between\n",
    "the **same indices** in element units. Therefore, the operands must be of the **same shape**."
   ]
  },
  {
   "cell_type": "code",
   "execution_count": 6,
   "metadata": {},
   "outputs": [
    {
     "name": "stdout",
     "output_type": "stream",
     "text": [
      "Shape of m1: (2, 2)\n",
      "Shape of m2: (2, 2)\n",
      "Shape of m3: (1, 4)\n",
      "\n",
      "m1 + m2 =\n",
      "[[ 8 17]\n",
      " [ 5  9]]\n",
      "\n",
      "m1 + m3 =\n",
      "Error: The arithmetic operations of the matrices must be of the same shape.\n"
     ]
    }
   ],
   "source": [
    "m1 = np.array([[2, 8],\n",
    "               [4, 9]])\n",
    "m2 = np.array([[6, 9],\n",
    "               [1, 0]])\n",
    "m3 = np.mat([[2, 3, 4, 1]])\n",
    "M = [m1, m2, m3]\n",
    "for i, j in zip(M, range(len(M))):\n",
    "    print(f\"Shape of {'m'+str(j+1)}: {i.shape}\")\n",
    "\n",
    "print('\\nm1 + m2 =')\n",
    "print(m1 + m2)\n",
    "\n",
    "print('\\nm1 + m3 =')\n",
    "try:\n",
    "    m1 + m3\n",
    "except:\n",
    "    print('Error: The arithmetic operations of the matrices must be of the same shape.')"
   ]
  },
  {
   "cell_type": "markdown",
   "metadata": {},
   "source": [
    "**NOTE**  \n",
    "- In `numpy`, `matrix` is a special 2D `array`.\n",
    "- For detailed difference, please refer to: --> [Link](https://numpy.org/devdocs/user/numpy-for-matlab-users.html?utm_source=pocket_saves#array-or-matrix-which-should-i-use)"
   ]
  },
  {
   "cell_type": "markdown",
   "metadata": {},
   "source": [
    "### 2.1.4 Matrix product\n",
    "\n",
    "For the detailed explanation of the geometric meaning of matrix product, please refer to 3b1b video.\n",
    "\n",
    "$u^{\\text{T}}v=v^{\\text{T}}u$ where $u$ and $v$ are both column or row vectors."
   ]
  },
  {
   "cell_type": "code",
   "execution_count": 7,
   "metadata": {},
   "outputs": [
    {
     "data": {
      "text/plain": [
       "True"
      ]
     },
     "execution_count": 7,
     "metadata": {},
     "output_type": "execute_result"
    }
   ],
   "source": [
    "# both are row vectors\n",
    "u = np.array([-1, 2, 3])\n",
    "v = np.array([-2, 0, 5])\n",
    "np.equal(np.dot(u.T, v), np.dot(v.T, u))"
   ]
  },
  {
   "cell_type": "code",
   "execution_count": 8,
   "metadata": {},
   "outputs": [
    {
     "data": {
      "text/plain": [
       "array([[ True]])"
      ]
     },
     "execution_count": 8,
     "metadata": {},
     "output_type": "execute_result"
    }
   ],
   "source": [
    "# both are column vectors\n",
    "u = u.reshape(3, 1)\n",
    "v = v.reshape(3, 1)\n",
    "np.equal(np.dot(u.T, v), np.dot(v.T, u))"
   ]
  },
  {
   "cell_type": "markdown",
   "metadata": {},
   "source": [
    "$uv=v^{\\text{T}}u^{\\text{T}}$ between a row vector and a column vector."
   ]
  },
  {
   "cell_type": "code",
   "execution_count": 9,
   "metadata": {},
   "outputs": [
    {
     "name": "stdout",
     "output_type": "stream",
     "text": [
      "[22]\n",
      "[22]\n"
     ]
    }
   ],
   "source": [
    "u = np.array([-1, 2, 4])\n",
    "v = np.array([[-2],\n",
    "              [0],\n",
    "              [5]])\n",
    "print(np.dot(u, v))\n",
    "print(np.dot(v.T, u.T))"
   ]
  },
  {
   "cell_type": "markdown",
   "metadata": {},
   "source": [
    "$(Au)^{\\text{T}}v=u^{\\text{T}}(A^{\\text{T}}v)$ where $u$ and $v$ are column vectors with the same dimension as matrix $A$."
   ]
  },
  {
   "cell_type": "code",
   "execution_count": 10,
   "metadata": {},
   "outputs": [
    {
     "name": "stdout",
     "output_type": "stream",
     "text": [
      "[[130]]\n",
      "[[130]]\n"
     ]
    }
   ],
   "source": [
    "u = np.array([-1, 2, 4]).reshape(-1, 1) # column vector\n",
    "v = np.array([-2, 0, 5]).reshape(-1, 1)\n",
    "A = np.array([[1, 3, -5],\n",
    "              [-2, 7, 8],\n",
    "              [4, 0, 6]])\n",
    "print(np.dot(np.dot(A, u).T, v))\n",
    "print(np.dot(u.T, np.dot(A.T, v)))"
   ]
  },
  {
   "cell_type": "markdown",
   "metadata": {},
   "source": [
    "## 2.2 Special matrix\n",
    "### 2.2.1 Transposed matrix\n",
    "$$A_{ij}={A^{\\text{T}}}_{ji}$$"
   ]
  },
  {
   "cell_type": "code",
   "execution_count": 11,
   "metadata": {},
   "outputs": [
    {
     "name": "stdout",
     "output_type": "stream",
     "text": [
      "[[2 3]\n",
      " [4 6]\n",
      " [9 7]]\n",
      "\n",
      "[[2 3]\n",
      " [4 6]\n",
      " [9 7]]\n"
     ]
    }
   ],
   "source": [
    "A = np.array([[2, 4, 9],\n",
    "              [3, 6, 7]])\n",
    "print(np.transpose(A))\n",
    "print('')\n",
    "print(A.T)"
   ]
  },
  {
   "cell_type": "markdown",
   "metadata": {},
   "source": [
    "$$(A^{\\text{T}})^{\\text{T}}=A$$"
   ]
  },
  {
   "cell_type": "code",
   "execution_count": 12,
   "metadata": {},
   "outputs": [
    {
     "name": "stdout",
     "output_type": "stream",
     "text": [
      "[[2 4 9]\n",
      " [3 6 7]]\n",
      "\n",
      "[[2 4 9]\n",
      " [3 6 7]]\n"
     ]
    }
   ],
   "source": [
    "print(A)\n",
    "print('')\n",
    "print((A.T).T)"
   ]
  },
  {
   "cell_type": "markdown",
   "metadata": {},
   "source": [
    "$$(A\\cdot B)^{\\text{T}}=B^{\\text{T}}\\cdot A^{\\text{T}}$$"
   ]
  },
  {
   "cell_type": "code",
   "execution_count": 13,
   "metadata": {},
   "outputs": [
    {
     "name": "stdout",
     "output_type": "stream",
     "text": [
      "A =\n",
      "[[2 4 9]\n",
      " [3 6 7]]\n",
      "\n",
      "B =\n",
      "[[-5  6 -4]\n",
      " [-1 -5 -6]\n",
      " [ 4  5  7]]\n",
      "\n",
      "(A·B)T =\n",
      "[[22  7]\n",
      " [37 23]\n",
      " [31  1]]\n",
      "\n",
      "BT·AT =\n",
      "[[22  7]\n",
      " [37 23]\n",
      " [31  1]]\n"
     ]
    }
   ],
   "source": [
    "print('A =')\n",
    "print(A)\n",
    "print('\\nB =')\n",
    "B = np.random.randint(-10, 10, (3,3)) # random int array\n",
    "print(B)\n",
    "print('\\n(A·B)T =')\n",
    "print(np.dot(A, B).T)\n",
    "print('\\nBT·AT =')\n",
    "print(np.dot(B.T, A.T))"
   ]
  },
  {
   "cell_type": "markdown",
   "metadata": {},
   "source": [
    "### 2.2.2 Square matrix\n",
    "\n",
    "**Square matrix** has same number of rows and columns.\n",
    "\n",
    "### 2.2.3 Identity Matrix\n",
    "\n",
    "**Identity Matrix** is a square matrix whose diagonal elements are all 1 and all other elements are 0.\n",
    "\n",
    "An $n$ dimension identity matrix is represented by $I_n$.\n",
    "\n",
    "The matrix product with the identity matrix makes that matrix itself.\n",
    "$$AI=A$$"
   ]
  },
  {
   "cell_type": "code",
   "execution_count": 14,
   "metadata": {},
   "outputs": [
    {
     "name": "stdout",
     "output_type": "stream",
     "text": [
      "[[1. 0. 0.]\n",
      " [0. 1. 0.]\n",
      " [0. 0. 1.]]\n"
     ]
    }
   ],
   "source": [
    "I3 = np.eye(3) # 3D identity matrix (2d array)\n",
    "print(I3)"
   ]
  },
  {
   "cell_type": "markdown",
   "metadata": {},
   "source": [
    "### 2.2.4 Trace\n",
    "\n",
    "**Trace** is the sume of the diagonal elements of a square matrix and if represented by **tr(A)**."
   ]
  },
  {
   "cell_type": "code",
   "execution_count": 15,
   "metadata": {},
   "outputs": [
    {
     "name": "stdout",
     "output_type": "stream",
     "text": [
      "[[5 4 1]\n",
      " [7 9 1]\n",
      " [7 8 6]]\n",
      "trace = 20\n"
     ]
    }
   ],
   "source": [
    "m = np.random.randint(1, 10, (3,3))\n",
    "print(m)\n",
    "tr_m = np.trace(m)\n",
    "print(f'trace = {tr_m}')"
   ]
  },
  {
   "cell_type": "markdown",
   "metadata": {},
   "source": [
    "### 2.2.5 Diagonal matrix\n",
    "\n",
    "**Diagonal matrix** is a matrix whose non diagonal elements are all zero."
   ]
  },
  {
   "cell_type": "code",
   "execution_count": 16,
   "metadata": {},
   "outputs": [
    {
     "data": {
      "text/plain": [
       "array([[1, 0, 0],\n",
       "       [0, 2, 0],\n",
       "       [0, 0, 3]])"
      ]
     },
     "execution_count": 16,
     "metadata": {},
     "output_type": "execute_result"
    }
   ],
   "source": [
    "np.diag([1,2,3])"
   ]
  },
  {
   "cell_type": "markdown",
   "metadata": {},
   "source": [
    "### 2.2.6 Triangular matrix\n",
    "\n",
    "**Lower triangular matrix**: the *upper* half of the non diagonal elements are all zero.  \n",
    "**Upper triangular matrix**: the *lower* half of the non diagonal elements are all zero."
   ]
  },
  {
   "cell_type": "code",
   "execution_count": 17,
   "metadata": {},
   "outputs": [
    {
     "name": "stdout",
     "output_type": "stream",
     "text": [
      "[[4 7 9]\n",
      " [5 9 8]\n",
      " [9 3 1]]\n",
      "\n",
      "Upper triangular matrix:\n",
      "[[4 7 9]\n",
      " [0 9 8]\n",
      " [0 0 1]]\n",
      "\n",
      "[[0 7 9]\n",
      " [0 0 8]\n",
      " [0 0 0]]\n",
      "\n",
      "Lower triangular matrix:\n",
      "[[4 0 0]\n",
      " [5 9 0]\n",
      " [9 3 1]]\n"
     ]
    }
   ],
   "source": [
    "x = np.random.randint(1, 10, (3,3))\n",
    "print(x)\n",
    "print('\\nUpper triangular matrix:')\n",
    "print(np.triu(x))\n",
    "print('')\n",
    "print(np.triu(x, k=1)) # diagonal elements are also zeroed\n",
    "print('\\nLower triangular matrix:')\n",
    "print(np.tril(x))"
   ]
  },
  {
   "cell_type": "markdown",
   "metadata": {},
   "source": [
    "If the diagonal elements of a triangular matrix are all 0, it is **irreversible** with **determinant** equal to 0."
   ]
  },
  {
   "cell_type": "code",
   "execution_count": 18,
   "metadata": {},
   "outputs": [
    {
     "name": "stdout",
     "output_type": "stream",
     "text": [
      "[[0 7 9]\n",
      " [0 0 8]\n",
      " [0 0 0]]\n",
      "\n",
      "determinant = 0.0\n"
     ]
    }
   ],
   "source": [
    "x1 = np.triu(x, k=1)\n",
    "print(x1)\n",
    "print(f'\\ndeterminant = {la.det(x1)}')"
   ]
  },
  {
   "cell_type": "markdown",
   "metadata": {},
   "source": [
    "The inverse matrix (if existed) of an upper (lower) triangular matrix is also an upper (lower) triangular matrix."
   ]
  },
  {
   "cell_type": "code",
   "execution_count": 19,
   "metadata": {},
   "outputs": [
    {
     "name": "stdout",
     "output_type": "stream",
     "text": [
      "[[ 0.2   -0.28  -0.013]\n",
      " [ 0.     0.2   -0.133]\n",
      " [ 0.     0.     0.111]]\n"
     ]
    }
   ],
   "source": [
    "tu = np.array([[5, 7, 9],\n",
    "               [0, 5, 6],\n",
    "               [0, 0, 9]])\n",
    "tu_inv = np.round(la.inv(tu), 3)\n",
    "print(tu_inv)"
   ]
  },
  {
   "cell_type": "markdown",
   "metadata": {},
   "source": [
    "### 2.2.7 Symmetric matrix\n",
    "\n",
    "If $A_{ij}=A_{ji}$, $A$ is a symmetric matrix.\n",
    "\n",
    "A symmetric matrix can be created as the sum of an upper (or lower) triangular matrix and its transpose matrix."
   ]
  },
  {
   "cell_type": "code",
   "execution_count": 20,
   "metadata": {},
   "outputs": [
    {
     "name": "stdout",
     "output_type": "stream",
     "text": [
      "A =\n",
      "[[ 6 -7  0]\n",
      " [ 0 -7  1]\n",
      " [ 0  0 -2]]\n",
      "\n",
      "A + A.T =\n",
      "[[ 12  -7   0]\n",
      " [ -7 -14   1]\n",
      " [  0   1  -4]]\n"
     ]
    }
   ],
   "source": [
    "x = np.random.randint(-10, 10, (3,3))\n",
    "A = np.triu(x)\n",
    "print('A =')\n",
    "print(A)\n",
    "print('\\nA + A.T =')\n",
    "print(A + A.T)"
   ]
  },
  {
   "cell_type": "markdown",
   "metadata": {},
   "source": [
    "The following relationships hold between the symmetric matrices $A$, $B$ and scalar $k$:  \n",
    "- A symmetric matrix is same to its transpose matrix: $A=A^{\\text{T}}$"
   ]
  },
  {
   "cell_type": "code",
   "execution_count": 21,
   "metadata": {},
   "outputs": [
    {
     "name": "stdout",
     "output_type": "stream",
     "text": [
      "A =\n",
      " [[ -2  -3   9]\n",
      " [ -3  -6 -10]\n",
      " [  9 -10   2]] \n",
      "B =\n",
      " [[-12  -6   9]\n",
      " [ -6 -16   5]\n",
      " [  9   5 -10]] \n",
      "k = 3\n",
      "\n",
      "A == A.T\n",
      "[[ True  True  True]\n",
      " [ True  True  True]\n",
      " [ True  True  True]]\n"
     ]
    }
   ],
   "source": [
    "x = np.random.randint(-10, 10, (3,3))\n",
    "A = np.triu(x) + np.triu(x).T\n",
    "y = np.random.randint(-10, 10, (3,3))\n",
    "B = np.triu(y) + np.triu(y).T\n",
    "k = 3\n",
    "\n",
    "print('A =\\n', A, '\\nB =\\n', B, '\\nk =', k)\n",
    "print('\\nA == A.T')\n",
    "print(A==A.T)"
   ]
  },
  {
   "cell_type": "markdown",
   "metadata": {},
   "source": [
    "- $A\\pm B$ are also symmetric matrices."
   ]
  },
  {
   "cell_type": "code",
   "execution_count": 22,
   "metadata": {},
   "outputs": [
    {
     "name": "stdout",
     "output_type": "stream",
     "text": [
      "A + B =\n",
      "[[-14  -9  18]\n",
      " [ -9 -22  -5]\n",
      " [ 18  -5  -8]]\n",
      "\n",
      "A - B =\n",
      "[[ 10   3   0]\n",
      " [  3  10 -15]\n",
      " [  0 -15  12]]\n"
     ]
    }
   ],
   "source": [
    "print('A + B =')\n",
    "print(A + B)\n",
    "print('\\nA - B =')\n",
    "print(A - B)"
   ]
  },
  {
   "cell_type": "markdown",
   "metadata": {},
   "source": [
    "- The scalar product of a symmetric matrix is also a symmetric matrix."
   ]
  },
  {
   "cell_type": "code",
   "execution_count": 23,
   "metadata": {},
   "outputs": [
    {
     "name": "stdout",
     "output_type": "stream",
     "text": [
      "k * A =\n",
      "[[ -6  -9  27]\n",
      " [ -9 -18 -30]\n",
      " [ 27 -30   6]]\n"
     ]
    }
   ],
   "source": [
    "print('k * A =')\n",
    "print(k * A)"
   ]
  },
  {
   "cell_type": "markdown",
   "metadata": {},
   "source": [
    "- If $A$ is a reversible symmetric matrix, then $A^{-1}$ is also a symmetric matrix."
   ]
  },
  {
   "cell_type": "code",
   "execution_count": 24,
   "metadata": {},
   "outputs": [
    {
     "name": "stdout",
     "output_type": "stream",
     "text": [
      "A.inv = \n",
      "[[-0.117 -0.009 -0.06 ]\n",
      " [-0.009  0.161  0.022]\n",
      " [-0.06   0.022 -0.193]]\n"
     ]
    }
   ],
   "source": [
    "A = np.array([[-10, -1, 3],\n",
    "              [-1, 6, 1],\n",
    "              [3, 1, -6]])\n",
    "print('A.inv = ')\n",
    "print(np.round(la.inv(A), 3))"
   ]
  },
  {
   "cell_type": "markdown",
   "metadata": {},
   "source": [
    "## 2.3 Inverse matrix and determinant\n",
    "### 2.3.1 Inverse matrix\n",
    "\n",
    "If multiply matrix $A$ on matrix $B$ results in identity matrix $I$, then $B$ is the **inverse matrix** of $A$.\n",
    "$$\\begin{align*}\n",
    "&A\\cdot B=I\\\\\n",
    "\\Rightarrow &B=A^{-1}\n",
    "\\end{align*}$$"
   ]
  },
  {
   "cell_type": "code",
   "execution_count": 25,
   "metadata": {},
   "outputs": [
    {
     "name": "stdout",
     "output_type": "stream",
     "text": [
      "[[ 1.00000000e+00  2.77555756e-17  2.77555756e-17]\n",
      " [ 1.11022302e-16  1.00000000e+00 -5.55111512e-17]\n",
      " [ 0.00000000e+00  2.77555756e-17  1.00000000e+00]]\n"
     ]
    }
   ],
   "source": [
    "A = np.array([[1, 3, -5],\n",
    "              [-2, 7, 8],\n",
    "              [4, 0, 6]])\n",
    "A_inv = la.inv(A)\n",
    "re = np.dot(A, A_inv)\n",
    "print(re)"
   ]
  },
  {
   "cell_type": "markdown",
   "metadata": {},
   "source": [
    "The result is not an identity matrix as expected. This is the accuracy issue of floating number calculation in computer.\n",
    "\n",
    "As a work around (to show correct print out), we can  \n",
    "- Round the decimal numbers\n",
    "- Or substitute small values by 0\n",
    "- Or convert to string with format"
   ]
  },
  {
   "cell_type": "code",
   "execution_count": 26,
   "metadata": {},
   "outputs": [
    {
     "name": "stdout",
     "output_type": "stream",
     "text": [
      "[[ 1.  0.  0.]\n",
      " [ 0.  1. -0.]\n",
      " [ 0.  0.  1.]]\n",
      "\n",
      "[[1. 0. 0.]\n",
      " [0. 1. 0.]\n",
      " [0. 0. 1.]]\n"
     ]
    }
   ],
   "source": [
    "# round the numbers\n",
    "print(np.round(re, 6))\n",
    "\n",
    "# substitute small value by 0\n",
    "epsilon = 1e-10\n",
    "np.place(re, re < epsilon, 0)\n",
    "print('')\n",
    "print(re)"
   ]
  },
  {
   "cell_type": "markdown",
   "metadata": {},
   "source": [
    "Inverse matrix can be used to calculate the solution of simultaneous equations.\n",
    "$$\\begin{align*}\n",
    "A\\cdot b=c&\\to A^{-1}\\cdot A\\cdot b=A^{-1}\\cdot c\\\\\n",
    "&\\to b=A^{-1}\\cdot c\n",
    "\\end{align*}$$"
   ]
  },
  {
   "cell_type": "code",
   "execution_count": 27,
   "metadata": {},
   "outputs": [
    {
     "name": "stdout",
     "output_type": "stream",
     "text": [
      "[[1.]\n",
      " [2.]\n",
      " [3.]]\n"
     ]
    }
   ],
   "source": [
    "A = np.array([[1, 1, 2],\n",
    "              [2, 4, -3],\n",
    "              [3, 6, -5]])\n",
    "c = np.array([[9], [1], [0]])\n",
    "A_inv = la.inv(A)\n",
    "re = np.dot(A_inv, c)\n",
    "print(re)"
   ]
  },
  {
   "cell_type": "code",
   "execution_count": 28,
   "metadata": {},
   "outputs": [
    {
     "name": "stdout",
     "output_type": "stream",
     "text": [
      "[[1.]\n",
      " [2.]\n",
      " [3.]]\n"
     ]
    }
   ],
   "source": [
    "# we can also use la.solve function\n",
    "print(la.solve(A, c))"
   ]
  },
  {
   "cell_type": "markdown",
   "metadata": {},
   "source": [
    "When there is unique solution, the vectors in $A$ are **linearly independent**. Otherwise they are **linearly dependent**.\n",
    "\n",
    "When the number of unknowns and the number of equations are different, the coefficient matrix is not a square matrix. In this case, inverse matrix cannot be calculated by the above process. Instead, [Gaussian Jordan elimination method](https://en.wikipedia.org/wiki/Gaussian_elimination) can be used to compute the inverse matrix. This elimination method returns a row echelon form matrix."
   ]
  },
  {
   "cell_type": "markdown",
   "metadata": {},
   "source": [
    "#### 2.3.1.1 Reduced row echelon form (rref)\n",
    "\n",
    "Definition of **row echelon form** (ref) and rref: --> [Link](https://en.wikipedia.org/wiki/Row_echelon_form)\n",
    "\n",
    "To calculate rref in Python, we need `sympy` library."
   ]
  },
  {
   "cell_type": "code",
   "execution_count": 29,
   "metadata": {},
   "outputs": [
    {
     "name": "stdout",
     "output_type": "stream",
     "text": [
      "(Matrix([\n",
      "[1, 0, 0],\n",
      "[0, 1, 0],\n",
      "[0, 0, 1]]), (0, 1, 2))\n"
     ]
    }
   ],
   "source": [
    "A = sympy.Matrix([[1, 1, 2],\n",
    "                  [2, 4, -3],\n",
    "                  [3, 6, 5]])\n",
    "print(A.rref())"
   ]
  },
  {
   "cell_type": "markdown",
   "metadata": {},
   "source": [
    "Let's solve below equations:\n",
    "$$\n",
    "\\begin{align*}\n",
    "a+b-c+3d&=0\\\\\n",
    "3a+b-c-d&=0\\\\\n",
    "2a-b-2c+d&=0\n",
    "\\end{align*}\n",
    "$$"
   ]
  },
  {
   "cell_type": "code",
   "execution_count": 30,
   "metadata": {},
   "outputs": [
    {
     "name": "stdout",
     "output_type": "stream",
     "text": [
      "(Matrix([\n",
      "[1, 0, 0,    -2, 0],\n",
      "[0, 1, 0,   5/3, 0],\n",
      "[0, 0, 1, -10/3, 0]]), (0, 1, 2))\n"
     ]
    }
   ],
   "source": [
    "A = sympy.Matrix([[1,1,-1,3,0],\n",
    "                  [3,1,-1,-1,0],\n",
    "                  [2,-1,-2,1,0]])\n",
    "print(A.rref())"
   ]
  },
  {
   "cell_type": "markdown",
   "metadata": {},
   "source": [
    "The above results can be organized as follows:\n",
    "$$\n",
    "\\begin{align*}\n",
    "a-d&=0\\\\\n",
    "b+\\frac{5}{3}d&=0\\\\\n",
    "c-\\frac{10}{3}d&=0\n",
    "\\end{align*}\n",
    "$$\n",
    "\n",
    "Take $d$ as free variable, we have the solutions:\n",
    "$$\n",
    "\\begin{align*}\n",
    "a&=d\\\\\n",
    "b&=-\\frac{5}{3}d\\\\\n",
    "c&=\\frac{10}{3}d\n",
    "\\end{align*}\n",
    "$$"
   ]
  },
  {
   "cell_type": "markdown",
   "metadata": {},
   "source": [
    "### 2.3.2 Determinant\n",
    "\n",
    "Explanation of determinant please check 3b1b video.\n",
    "\n",
    "The determinant of matrix can be represented as **det(matrix)** or **|matrix|**."
   ]
  },
  {
   "cell_type": "code",
   "execution_count": 31,
   "metadata": {},
   "outputs": [
    {
     "name": "stdout",
     "output_type": "stream",
     "text": [
      "-1.0\n"
     ]
    }
   ],
   "source": [
    "A = np.array([[1, 1, 2],\n",
    "              [2, 4, -3],\n",
    "              [3, 6, -5]])\n",
    "print(np.round(la.det(A), 10))"
   ]
  },
  {
   "cell_type": "markdown",
   "metadata": {},
   "source": [
    "The determinant of a square matrix has the following characteristics:\n",
    "- $\\text{det}(A)=\\text{det}(A^\\text{T})$"
   ]
  },
  {
   "cell_type": "code",
   "execution_count": 33,
   "metadata": {},
   "outputs": [
    {
     "name": "stdout",
     "output_type": "stream",
     "text": [
      "det(A) = 252.0\n",
      "det(A.T) = 252.0\n"
     ]
    }
   ],
   "source": [
    "A = np.array([[1,2,3],\n",
    "              [-4,4,6],\n",
    "              [7,-8,9]])\n",
    "A_det = np.round(la.det(A), 4)\n",
    "AT_det = np.round(la.det(A.T), 4)\n",
    "print(f'det(A) = {A_det}')\n",
    "print(f'det(A.T) = {AT_det}')"
   ]
  },
  {
   "cell_type": "markdown",
   "metadata": {},
   "source": [
    "- If any row or column in A is 0 vector, then det(A)=0\n",
    "- B[row, :]=k × A[row, :] → det(B)=k × det(B)\n",
    "- If the vectors in matrix A are linearly **dependent**, then det(A)=0\n",
    "- If matrix A is triangular, its determinant is the product of all diagonal elements.\n",
    "- If det(A) ≠ 0, then A is reversible\n",
    "- det(AB) = det(A)·det(B)\n",
    "- If matrix A is reversible, then $\\text{det}(A^\\text{T})=1/\\text{det}(A)$"
   ]
  },
  {
   "cell_type": "markdown",
   "metadata": {},
   "source": [
    "## 2.4 LU decomposition"
   ]
  },
  {
   "cell_type": "markdown",
   "metadata": {},
   "source": [
    "Reversible square matrix $A$ can be decomposed into a lower triangular matrix and an upper triangular matrix:\n",
    "$$A=LU$$\n",
    "With known $U$, can calculate $L$ in the following way:\n",
    "$$A=LU\\to AU^{-1}=LUU^{-1}=LI=L$$"
   ]
  },
  {
   "cell_type": "code",
   "execution_count": 34,
   "metadata": {},
   "outputs": [
    {
     "data": {
      "text/plain": [
       "-2.000000000000001"
      ]
     },
     "execution_count": 34,
     "metadata": {},
     "output_type": "execute_result"
    }
   ],
   "source": [
    "A = np.array([[1,-2,3],\n",
    "              [2,-5,12],\n",
    "              [0,2,-10]])\n",
    "la.det(A) # confirm if A is reversible"
   ]
  },
  {
   "cell_type": "code",
   "execution_count": 35,
   "metadata": {},
   "outputs": [
    {
     "name": "stdout",
     "output_type": "stream",
     "text": [
      "U =\n",
      "[[  1  -2   3]\n",
      " [  0  -5  12]\n",
      " [  0   0 -10]]\n",
      "\n",
      "L =\n",
      "[[ 1.    0.    0.  ]\n",
      " [ 2.    0.2  -0.36]\n",
      " [ 0.   -0.4   0.52]]\n"
     ]
    }
   ],
   "source": [
    "Au = np.triu(A)\n",
    "Al = np.dot(A, la.inv(Au))\n",
    "print('U =')\n",
    "print(Au)\n",
    "print('\\nL =')\n",
    "print(np.round(Al,2))"
   ]
  },
  {
   "cell_type": "code",
   "execution_count": 36,
   "metadata": {},
   "outputs": [
    {
     "data": {
      "text/plain": [
       "True"
      ]
     },
     "execution_count": 36,
     "metadata": {},
     "output_type": "execute_result"
    }
   ],
   "source": [
    "np.allclose(A, np.dot(Al, Au))"
   ]
  },
  {
   "cell_type": "markdown",
   "metadata": {},
   "source": [
    "NOTE: use `np.allclose()` to compare arrays by ignoring small difference from float calculation errors.\n",
    "\n",
    "LU decompositioncan also be calculated using `linalg.lu()`, but it will generate a permutation matrix as well:\n",
    "$$A=PLU$$"
   ]
  },
  {
   "cell_type": "code",
   "execution_count": 37,
   "metadata": {},
   "outputs": [
    {
     "name": "stdout",
     "output_type": "stream",
     "text": [
      "P =\n",
      "[[0. 0. 1.]\n",
      " [1. 0. 0.]\n",
      " [0. 1. 0.]]\n",
      "\n",
      "L =\n",
      "[[1.   0.   0.  ]\n",
      " [0.   1.   0.  ]\n",
      " [0.5  0.25 1.  ]]\n",
      "\n",
      "U =\n",
      "[[  2.   -5.   12. ]\n",
      " [  0.    2.  -10. ]\n",
      " [  0.    0.   -0.5]]\n"
     ]
    }
   ],
   "source": [
    "p, l, u = la.lu(A)\n",
    "print('P =')\n",
    "print(p)\n",
    "print('\\nL =')\n",
    "print(l)\n",
    "print('\\nU =')\n",
    "print(u)"
   ]
  }
 ],
 "metadata": {
  "kernelspec": {
   "display_name": "ZZ_ML",
   "language": "python",
   "name": "python3"
  },
  "language_info": {
   "codemirror_mode": {
    "name": "ipython",
    "version": 3
   },
   "file_extension": ".py",
   "mimetype": "text/x-python",
   "name": "python",
   "nbconvert_exporter": "python",
   "pygments_lexer": "ipython3",
   "version": "3.10.13"
  }
 },
 "nbformat": 4,
 "nbformat_minor": 2
}
