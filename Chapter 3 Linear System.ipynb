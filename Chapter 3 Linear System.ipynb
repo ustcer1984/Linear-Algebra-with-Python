{
 "cells": [
  {
   "cell_type": "code",
   "execution_count": 2,
   "metadata": {},
   "outputs": [],
   "source": [
    "# setup environment\n",
    "import numpy as np\n",
    "import scipy.linalg as la\n",
    "import sympy"
   ]
  },
  {
   "cell_type": "markdown",
   "metadata": {},
   "source": [
    "# 3 Linear System\n",
    "## 3.1 Linear Combination\n",
    "\n",
    "**Vector** set R = {v1, v2, ..., vn} and **scalar** set c = {c1, c2, ..., cn} forms below **linear combination**:\n",
    "$$\n",
    "y=c_1v_1+c_2v_2+\\cdots +c_nv_n=\\begin{bmatrix}\n",
    "v_1 & v_2 & \\cdots & v_n\n",
    "\\end{bmatrix}\n",
    "\\begin{bmatrix}\n",
    "c_1 \\\\\n",
    "c_2 \\\\\n",
    "\\vdots  \\\\\n",
    "c_n\n",
    "\\end{bmatrix}\n",
    "$$\n",
    "\n",
    "$R$ is called coefficient matrix or standard matrix.  \n",
    "Scalar set $c$ is called weight vector.\n",
    "\n",
    "Consider below equation:\n",
    "$$\n",
    "\\begin{bmatrix}\n",
    "7 \\\\\n",
    "4 \\\\\n",
    "-3\n",
    "\\end{bmatrix}\n",
    "=\n",
    "\\begin{bmatrix}\n",
    "1 & 2 \\\\\n",
    "-2 & 5 \\\\\n",
    "-5 & 6\n",
    "\\end{bmatrix}\n",
    "\\begin{bmatrix}\n",
    "x \\\\\n",
    "y\n",
    "\\end{bmatrix}\n",
    "$$"
   ]
  },
  {
   "cell_type": "code",
   "execution_count": 4,
   "metadata": {},
   "outputs": [
    {
     "data": {
      "text/plain": [
       "(Matrix([\n",
       " [1, 0, 3],\n",
       " [0, 1, 2],\n",
       " [0, 0, 0]]),\n",
       " (0, 1))"
      ]
     },
     "execution_count": 4,
     "metadata": {},
     "output_type": "execute_result"
    }
   ],
   "source": [
    "A = sympy.Matrix([[1,2,7],\n",
    "                  [-2,5,4],\n",
    "                  [-5,6,-3]])\n",
    "A.rref()"
   ]
  },
  {
   "cell_type": "markdown",
   "metadata": {},
   "source": [
    "There is unique solution $(x, y)=(3,2)$, so the above linear combination is established. The constant vector (on the left side of the equal sign) is in the **span** of the standard matrix.\n",
    "\n",
    "Consider another equation:\n",
    "$$\n",
    "\\begin{bmatrix}\n",
    "-3 \\\\\n",
    "8 \\\\\n",
    "1\n",
    "\\end{bmatrix}\n",
    "=\n",
    "\\begin{bmatrix}\n",
    " 1 & 2 \\\\\n",
    "-2 & 5 \\\\\n",
    "-5 & 6\n",
    "\\end{bmatrix}\n",
    "\\begin{bmatrix}\n",
    "x \\\\\n",
    "y\n",
    "\\end{bmatrix}\n",
    "$$"
   ]
  },
  {
   "cell_type": "code",
   "execution_count": 5,
   "metadata": {},
   "outputs": [
    {
     "data": {
      "text/plain": [
       "(Matrix([\n",
       " [1, 0, 0],\n",
       " [0, 1, 0],\n",
       " [0, 0, 1]]),\n",
       " (0, 1, 2))"
      ]
     },
     "execution_count": 5,
     "metadata": {},
     "output_type": "execute_result"
    }
   ],
   "source": [
    "A = sympy.Matrix([[1,2,-3],\n",
    "                  [-2,5,8],\n",
    "                  [-5,6,1]])\n",
    "A.rref()"
   ]
  },
  {
   "cell_type": "markdown",
   "metadata": {},
   "source": [
    "The 3rd row means $0x+0y=1$, indicating no solution.  \n",
    "This constant vector is NOT inside the span of the standard matrix.  \n",
    "This system is called an **inconsistent system**."
   ]
  },
  {
   "cell_type": "markdown",
   "metadata": {},
   "source": [
    "### 3.1.1 Homogeneous Linear Combination\n",
    "\n",
    "$Ax=0$ is **homogeneous** linear combination.\n",
    "\n",
    "It has 2 types:  \n",
    "1. **Trivial solution**: with unique solution set (all 0)\n",
    "2. **Nontrivial solution**: with various solution sets\n",
    "    - At least one free variable.\n",
    "\n",
    "Consider below equations:  \n",
    "$$ 3x_1 +5x_2 -4x_3 =0\\\\ -3x_1 -2x_2 +4x_3 =0\\\\ 6x_1 +x_2 -8x_3 =0$$"
   ]
  },
  {
   "cell_type": "code",
   "execution_count": 6,
   "metadata": {},
   "outputs": [
    {
     "data": {
      "text/plain": [
       "(Matrix([\n",
       " [1, 0, -4/3, 0],\n",
       " [0, 1,    0, 0],\n",
       " [0, 0,    0, 0]]),\n",
       " (0, 1))"
      ]
     },
     "execution_count": 6,
     "metadata": {},
     "output_type": "execute_result"
    }
   ],
   "source": [
    "A = sympy.Matrix([[3,5,-4,0],\n",
    "                  [-3,-2,4,0],\n",
    "                  [6,1,-8,0]])\n",
    "A.rref()"
   ]
  },
  {
   "cell_type": "markdown",
   "metadata": {},
   "source": [
    "There are 2 leading variables and 1 free variable. It can have various solutions depending on the free variable $x_3$, so it has nontrivial solution."
   ]
  },
  {
   "cell_type": "markdown",
   "metadata": {},
   "source": [
    "## 3.2 Linear independence and dependence\n",
    "\n",
    "A homogeneous linear combination is said to be **linear independent**\n",
    "if it has a trivial solution , and **linear dependent** if it has a nontrivial solution to satisfy the above equation."
   ]
  },
  {
   "cell_type": "code",
   "execution_count": 9,
   "metadata": {},
   "outputs": [
    {
     "data": {
      "text/plain": [
       "0.0"
      ]
     },
     "execution_count": 9,
     "metadata": {},
     "output_type": "execute_result"
    }
   ],
   "source": [
    "A = np.array([[1,4,2],\n",
    "              [2,5,1],\n",
    "              [3,6,0]])\n",
    "np.round(la.det(A),10)"
   ]
  },
  {
   "cell_type": "markdown",
   "metadata": {},
   "source": [
    "$A$ is a square matrix, so we can compute its determinant. The result is 0, so no inverse matrix and no unique solution. This system is linear dependent.\n",
    "\n",
    "We can confirm it with rref:"
   ]
  },
  {
   "cell_type": "code",
   "execution_count": 10,
   "metadata": {},
   "outputs": [
    {
     "data": {
      "text/plain": [
       "(Matrix([\n",
       " [1, 0, -2],\n",
       " [0, 1,  1],\n",
       " [0, 0,  0]]),\n",
       " (0, 1))"
      ]
     },
     "execution_count": 10,
     "metadata": {},
     "output_type": "execute_result"
    }
   ],
   "source": [
    "sympy.Matrix(A).rref()"
   ]
  },
  {
   "cell_type": "markdown",
   "metadata": {},
   "source": [
    "There are 2 leading variables and 1 free variable. The solutions are:\n",
    "$$\n",
    "\\begin{align*}\n",
    "x_1&=2x_3\\\\\n",
    "x_2&=-x_3\n",
    "\\end{align*}\n",
    "$$"
   ]
  },
  {
   "cell_type": "markdown",
   "metadata": {},
   "source": [
    "If the standard matrix is not square, then we have to rely on rref method."
   ]
  },
  {
   "cell_type": "code",
   "execution_count": 11,
   "metadata": {},
   "outputs": [
    {
     "data": {
      "text/plain": [
       "(Matrix([\n",
       " [1, 0, 0],\n",
       " [0, 1, 0],\n",
       " [0, 0, 1],\n",
       " [0, 0, 0]]),\n",
       " (0, 1, 2))"
      ]
     },
     "execution_count": 11,
     "metadata": {},
     "output_type": "execute_result"
    }
   ],
   "source": [
    "V = sympy.Matrix([[0,-3,9],\n",
    "                  [2,1,-7],\n",
    "                  [-1,4,-5],\n",
    "                  [1,-4,2]])\n",
    "V.rref()"
   ]
  },
  {
   "cell_type": "markdown",
   "metadata": {},
   "source": [
    "Standard matrix $V$ has 4x3 dimension. It has 3 leading variables and no free variable, indicating trivial solution. This system is linearly independent though the equations are redundant."
   ]
  },
  {
   "cell_type": "code",
   "execution_count": 12,
   "metadata": {},
   "outputs": [
    {
     "data": {
      "text/plain": [
       "(Matrix([\n",
       " [1, 0, 0, -3],\n",
       " [0, 1, 0,  0],\n",
       " [0, 0, 1, -1]]),\n",
       " (0, 1, 2))"
      ]
     },
     "execution_count": 12,
     "metadata": {},
     "output_type": "execute_result"
    }
   ],
   "source": [
    "V = sympy.Matrix([[1,4,-3,0],\n",
    "                  [-2,-7,5,1],\n",
    "                  [-4,-5,7,5]])\n",
    "V.rref()"
   ]
  },
  {
   "cell_type": "markdown",
   "metadata": {},
   "source": [
    "For the matrix $V$ above, its dimension is 3x4. With 4 variables and maximum 3 leading ones, it must have nontrival solutions, thus linearly dependent.\n",
    "$$\\begin{align*}\n",
    "x_1&=x_4\\\\\n",
    "x_2&=0\\\\\n",
    "x_3&=x_4\n",
    "\\end{align*}$$"
   ]
  }
 ],
 "metadata": {
  "kernelspec": {
   "display_name": "ZZ_ML",
   "language": "python",
   "name": "python3"
  },
  "language_info": {
   "codemirror_mode": {
    "name": "ipython",
    "version": 3
   },
   "file_extension": ".py",
   "mimetype": "text/x-python",
   "name": "python",
   "nbconvert_exporter": "python",
   "pygments_lexer": "ipython3",
   "version": "3.10.13"
  }
 },
 "nbformat": 4,
 "nbformat_minor": 2
}
