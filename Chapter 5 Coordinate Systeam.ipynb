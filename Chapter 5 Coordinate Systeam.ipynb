{
 "cells": [
  {
   "cell_type": "code",
   "execution_count": 1,
   "metadata": {},
   "outputs": [],
   "source": [
    "# setup environment\n",
    "import numpy as np\n",
    "import numpy.linalg as la\n",
    "import sympy"
   ]
  },
  {
   "cell_type": "markdown",
   "metadata": {},
   "source": [
    "# 5 Coordinate System\n",
    "## 5.1 Vector Coordinate System\n",
    "\n",
    "Consider below linear combination:  \n",
    "$x = c_1 b_1 + c_2 b_2 + \\dots + c_p b_p = Bc$\n",
    "\n",
    "If $B = \\{b_1 , b_2 , \\dots , b_p \\}$ is linearly independent, then it forms the basis of $H = Span \\{b_1 , b_2 , \\dots , b_p \\}$.\n",
    "\n",
    "$c$ is the coordinate vector indicating the location of $x$ vector in $H$."
   ]
  },
  {
   "cell_type": "markdown",
   "metadata": {},
   "source": [
    "Are the vectors $v_1$, $v_2$ the basis vector of the vector $c$?  \n",
    "$$\\begin{align*}\n",
    "v_1&=<3,6,2>\\\\\n",
    "v_2&=<-1,0,1>\\\\\n",
    "c&=<3,12,7>\n",
    "\\end{align*}$$"
   ]
  },
  {
   "cell_type": "code",
   "execution_count": 2,
   "metadata": {},
   "outputs": [
    {
     "data": {
      "text/plain": [
       "(Matrix([\n",
       " [1, 0, 2],\n",
       " [0, 1, 3],\n",
       " [0, 0, 0]]),\n",
       " (0, 1))"
      ]
     },
     "execution_count": 2,
     "metadata": {},
     "output_type": "execute_result"
    }
   ],
   "source": [
    "v1=np.array([3, 6, 2]).reshape(-1,1)\n",
    "v2=np.array([-1,0,1]).reshape(-1,1)\n",
    "c=np.array([3, 12, 7]).reshape(-1,1)\n",
    "\n",
    "au=np.hstack([v1,v2, c]) # Augment matrix\n",
    "sympy.Matrix(au).rref()"
   ]
  },
  {
   "cell_type": "markdown",
   "metadata": {},
   "source": [
    "$c=2v_1+3v_2$, so the vectors $v_1$, $v_2$ are the basis vector of the vector $c$.\n",
    "\n",
    "We can think in this way:  \n",
    "- In $R^3$ space (basis vectors are $I_3$), the coordinates of $c$ is [3, 12, 7] (called $r$ vector)\n",
    "- In $H=Span\\{v_1,v_2\\}$ (dim 2) space, the coordinates of $c$ is [2, 3]"
   ]
  },
  {
   "cell_type": "markdown",
   "metadata": {},
   "source": [
    "Determine the $r$ vector as a result of the linear combination of two basis vectors $b_1$ , $b_2$ and vector $c$.  \n",
    "$$\\begin{align*}\n",
    "b_1&=<1,0>\\\\\n",
    "b_2&=<1,2>\\\\\n",
    "c&=<-2,3>\n",
    "\\end{align*}$$"
   ]
  },
  {
   "cell_type": "code",
   "execution_count": 3,
   "metadata": {},
   "outputs": [
    {
     "name": "stdout",
     "output_type": "stream",
     "text": [
      "[[1]\n",
      " [6]]\n"
     ]
    }
   ],
   "source": [
    "b1 = np.array([[1],[0]])\n",
    "b2 = np.array([[1],[2]])\n",
    "c = np.array([[-2],[3]])\n",
    "B = np.hstack([b1, b2])\n",
    "\n",
    "r = np.dot(B, c)\n",
    "print(r)"
   ]
  },
  {
   "cell_type": "markdown",
   "metadata": {},
   "source": [
    "Determine the basis vectors of the following polynomial.  \n",
    "$$\\begin{align*}\n",
    "&1+2t^2=0\\\\\n",
    "&4+t+5t^2=0\\\\\n",
    "&3+2t=0\\\\\n",
    "\\to &P=[<1,4,3>,<0,1,2>,<2,5,0>]\\\\\n",
    "&T=<1,t,t^2>\\\\\n",
    "&c=<0,0,0>\\\\\n",
    "\\to &P\\cdot T=c\n",
    "\\end{align*}$$\n",
    "\n",
    "These polynomials can be expressed as linear combinations as follows:  \n",
    "$$\n",
    "\\begin{bmatrix}\n",
    "1 & 0 & 2 \\\\\n",
    "4 & 1 & 5 \\\\\n",
    "3 & 2 & 0\n",
    "\\end{bmatrix}\n",
    "\\begin{bmatrix}\n",
    "1 \\\\\n",
    "t \\\\\n",
    "t^2\n",
    "\\end{bmatrix} = \\begin{bmatrix}\n",
    "0 \\\\\n",
    "0 \\\\\n",
    "0\n",
    "\\end{bmatrix}\n",
    "$$"
   ]
  },
  {
   "cell_type": "code",
   "execution_count": 4,
   "metadata": {},
   "outputs": [
    {
     "data": {
      "text/plain": [
       "(Matrix([\n",
       " [1, 0,  2, 0],\n",
       " [0, 1, -3, 0],\n",
       " [0, 0,  0, 0]]),\n",
       " (0, 1))"
      ]
     },
     "execution_count": 4,
     "metadata": {},
     "output_type": "execute_result"
    }
   ],
   "source": [
    "P=np.array([[1,0,2],[4,1,5],[3,2,0]])\n",
    "c=np.array([0,0,0]).reshape(3,1)\n",
    "au=np.hstack([P,c])\n",
    "sympy.Matrix(au).rref()"
   ]
  },
  {
   "cell_type": "markdown",
   "metadata": {},
   "source": [
    "Matrix $P$ is linearly dependent, thus not a base matrix. The pivot columns of $P$ are col 0 & 1, indicating the first 2 column vectors in $P$ forms the basis."
   ]
  },
  {
   "cell_type": "code",
   "execution_count": 5,
   "metadata": {},
   "outputs": [
    {
     "name": "stdout",
     "output_type": "stream",
     "text": [
      "[[1 0]\n",
      " [4 1]\n",
      " [3 2]]\n"
     ]
    }
   ],
   "source": [
    "print(P[:,[0,1]])"
   ]
  },
  {
   "cell_type": "markdown",
   "metadata": {},
   "source": [
    "$P = Span \\{< 1, 4, 3 >, < 0, 1, 2 >\\}$"
   ]
  },
  {
   "cell_type": "markdown",
   "metadata": {},
   "source": [
    "## 5.2 Dimension and Rank\n",
    "\n",
    "The **dimension** of subspace $H$ is the **number of basis vectors** (also called **rank**) that make up the space."
   ]
  },
  {
   "cell_type": "markdown",
   "metadata": {},
   "source": [
    "Determine the rank of the homogeneous equation:  \n",
    "$$\n",
    "\\begin{bmatrix}\n",
    "-3 & 6 & -1 & 1 & 7 \\\\\n",
    "1 & -2 & 2 & 3 & -1 \\\\\n",
    "2 & -4 & 5 & 8 & -4\n",
    "\\end{bmatrix} \\begin{bmatrix}\n",
    "x_1 \\\\\n",
    "x_2 \\\\\n",
    "x_3 \\\\\n",
    "x_4 \\\\\n",
    "x_5\n",
    "\\end{bmatrix} = \\begin{bmatrix}\n",
    "0 \\\\\n",
    "0 \\\\\n",
    "0 \\\\\n",
    "0 \\\\\n",
    "0\n",
    "\\end{bmatrix}\n",
    "$$"
   ]
  },
  {
   "cell_type": "code",
   "execution_count": 6,
   "metadata": {},
   "outputs": [
    {
     "name": "stdout",
     "output_type": "stream",
     "text": [
      "[[-3  6 -1  1  7  0]\n",
      " [ 1 -2  2  3 -1  0]\n",
      " [ 2 -4  5  8 -4  0]]\n",
      "\n",
      "rref\n",
      "(Matrix([\n",
      "[1, -2, 0, -1, 0, 0],\n",
      "[0,  0, 1,  2, 0, 0],\n",
      "[0,  0, 0,  0, 1, 0]]), (0, 2, 4))\n"
     ]
    }
   ],
   "source": [
    "A = np.array([[-3,6,-1,1,7],\n",
    "              [1,-2,2,3,-1],\n",
    "              [2, -4, 5, 8, -4]])\n",
    "c = np.array([0,0,0]).reshape(-1,1)\n",
    "au = np.hstack([A,c])\n",
    "print(au)\n",
    "print('\\nrref')\n",
    "print(sympy.Matrix(au).rref())"
   ]
  },
  {
   "cell_type": "markdown",
   "metadata": {},
   "source": [
    "There are 3 pivot columns. So it is rank 3 with below base vectors:"
   ]
  },
  {
   "cell_type": "code",
   "execution_count": 7,
   "metadata": {},
   "outputs": [
    {
     "name": "stdout",
     "output_type": "stream",
     "text": [
      "[[-3 -1  7]\n",
      " [ 1  2 -1]\n",
      " [ 2  5 -4]]\n"
     ]
    }
   ],
   "source": [
    "print(A[:,[0,2,4]])"
   ]
  },
  {
   "cell_type": "markdown",
   "metadata": {},
   "source": [
    "A = Span {< -3, 1, 2 >, < -1, 2, 5 >, < 7. -1, -4 >}  \n",
    "Rank A = 3\n",
    "\n",
    "**Summary**: in matrix $A$  \n",
    "- Rank $A$ = # of pivot column = # of basis = Dimension of subspace"
   ]
  },
  {
   "cell_type": "markdown",
   "metadata": {},
   "source": [
    "$H = Span\\{v_1 , v_2 \\}$ means that $v_1$ and $v_2$ are basis vectors. In this case, the dimension of $H$ is 2."
   ]
  },
  {
   "cell_type": "code",
   "execution_count": 8,
   "metadata": {},
   "outputs": [
    {
     "data": {
      "text/plain": [
       "(Matrix([\n",
       " [1, 0, 0],\n",
       " [0, 1, 0],\n",
       " [0, 0, 0]]),\n",
       " (0, 1))"
      ]
     },
     "execution_count": 8,
     "metadata": {},
     "output_type": "execute_result"
    }
   ],
   "source": [
    "v1 = np.array([[1],[4],[-3]])\n",
    "v2 = np.array([[-2],[5],[-7]])\n",
    "c = np.array([0,0,0]).reshape(-1,1)\n",
    "sympy.Matrix(np.hstack([v1, v2, c])).rref()"
   ]
  },
  {
   "cell_type": "markdown",
   "metadata": {},
   "source": [
    "The solution of independent linear combinations is the coordinate vector. Therefore, the $x$ vector of the following equation becomes the coordinate vector:  \n",
    "$$[v_1,v_2]\\cdot x=c$$"
   ]
  },
  {
   "cell_type": "code",
   "execution_count": 9,
   "metadata": {},
   "outputs": [
    {
     "name": "stdout",
     "output_type": "stream",
     "text": [
      "[[ 2]\n",
      " [ 9]\n",
      " [-7]] \n",
      "\n",
      "(Matrix([\n",
      "[1, 0, 28/13],\n",
      "[0, 1,  1/13],\n",
      "[0, 0,     0]]), (0, 1))\n"
     ]
    }
   ],
   "source": [
    "r = np.array([[2],[9],[-7]])\n",
    "print(r, '\\n')\n",
    "print(sympy.Matrix(np.hstack([v1,v2,r])).rref())"
   ]
  },
  {
   "cell_type": "markdown",
   "metadata": {},
   "source": [
    "According to above result, the coordinate vector is $<\\frac{28}{13},\\frac{1}{13}>$.\n",
    "\n",
    "The rank is 2 because it is equal to the number of pivot columns. This can also be checked with the `np.linalg.matrix_rank()` function."
   ]
  },
  {
   "cell_type": "code",
   "execution_count": 10,
   "metadata": {},
   "outputs": [
    {
     "data": {
      "text/plain": [
       "2"
      ]
     },
     "execution_count": 10,
     "metadata": {},
     "output_type": "execute_result"
    }
   ],
   "source": [
    "la.matrix_rank(np.hstack([v1, v2]))"
   ]
  },
  {
   "cell_type": "markdown",
   "metadata": {},
   "source": [
    "The above result shows that the number of pivot columns equals the dimension of the column space (dim Col), and the number of non-pivot columns equals the number of null spaces in the matrix. That is, the subspace $H$ composed of $v_1$ and $v_2$ has 2 column spaces and 0 null spaces."
   ]
  },
  {
   "cell_type": "code",
   "execution_count": 11,
   "metadata": {},
   "outputs": [
    {
     "data": {
      "text/plain": [
       "[Matrix([\n",
       " [ 1],\n",
       " [ 4],\n",
       " [-3]]),\n",
       " Matrix([\n",
       " [-2],\n",
       " [ 5],\n",
       " [-7]])]"
      ]
     },
     "execution_count": 11,
     "metadata": {},
     "output_type": "execute_result"
    }
   ],
   "source": [
    "sympy.Matrix(np.hstack([v1, v2])).columnspace()"
   ]
  },
  {
   "cell_type": "code",
   "execution_count": 12,
   "metadata": {},
   "outputs": [
    {
     "data": {
      "text/plain": [
       "[]"
      ]
     },
     "execution_count": 12,
     "metadata": {},
     "output_type": "execute_result"
    }
   ],
   "source": [
    "sympy.Matrix(np.hstack([v1, v2])).nullspace()"
   ]
  },
  {
   "cell_type": "markdown",
   "metadata": {},
   "source": [
    "For matrix A with dimension m x n:\n",
    "\n",
    "Rank A = dim Col A (dimension of column space of A)\n",
    "\n",
    "rank A + dim Nul A  \n",
    "= (# of pivot column) + (# of nonpivot column)  \n",
    "= n"
   ]
  },
  {
   "cell_type": "code",
   "execution_count": 13,
   "metadata": {},
   "outputs": [
    {
     "name": "stdout",
     "output_type": "stream",
     "text": [
      "rref\n",
      "(Matrix([\n",
      "[1, 0, 0],\n",
      "[0, 0, 1],\n",
      "[0, 0, 0]]), (0, 2))\n",
      "\n",
      "rank = 2\n"
     ]
    }
   ],
   "source": [
    "A = np.array([[3,0,-1],\n",
    "              [3,0,-1],\n",
    "              [4,0,5]])\n",
    "print('rref')\n",
    "print(sympy.Matrix(A).rref())\n",
    "print(f'\\nrank = {la.matrix_rank(A)}')"
   ]
  },
  {
   "cell_type": "markdown",
   "metadata": {},
   "source": [
    "From the rref of $A$ , there are 2 pivot columns and 1 free variable, therefore:\n",
    "\n",
    "Rank A=2  \n",
    "Total number of columns  \n",
    "= dim Col A+ dim Nul A  \n",
    "= 2+1  \n",
    "= 3"
   ]
  },
  {
   "cell_type": "markdown",
   "metadata": {},
   "source": [
    "## 5.3 Eigenvector and Eigenvalue\n",
    "\n",
    "For the excellent explaination of **eigenvector** and **eigenvalue**, please refer to 3b1b video.\n",
    "\n",
    "Simply put, if a non zero vector go through a linear transformation (by a square matrix) results in no orientation change, then it is an eigenvector of this matrix. Its size changes by a factor called eigenvalue."
   ]
  },
  {
   "cell_type": "code",
   "execution_count": 14,
   "metadata": {},
   "outputs": [
    {
     "name": "stdout",
     "output_type": "stream",
     "text": [
      "Au =\n",
      "[[-3]\n",
      " [-1]]\n",
      "\n",
      "Av =\n",
      "[[4]\n",
      " [2]]\n"
     ]
    }
   ],
   "source": [
    "A = np.array([[3,-2],\n",
    "              [1,0]])\n",
    "u = np.array([[-1],\n",
    "              [0]])\n",
    "v = np.array([[2],\n",
    "              [1]])\n",
    "Au = np.dot(A, u)\n",
    "Av = np.dot(A, v)\n",
    "print('Au =')\n",
    "print(Au)\n",
    "print('\\nAv =')\n",
    "print(Av)"
   ]
  },
  {
   "cell_type": "markdown",
   "metadata": {},
   "source": [
    "$Av=2v$, so $v$ is an eigenvector of $A$ with eigenvalue of 2.  \n",
    "No such relationship can be established for $u$, so $u$ is NOT an eigenvector of $A$."
   ]
  },
  {
   "cell_type": "markdown",
   "metadata": {},
   "source": [
    "If matrix $A$ has eigenvalue $\\lambda$ and associated eigenvector $x$:  \n",
    "$$A\\cdot x=\\lambda x \\to (A-\\lambda I)\\cdot x=0 \\to det(A-\\lambda I)=0$$"
   ]
  },
  {
   "cell_type": "markdown",
   "metadata": {},
   "source": [
    "Calculate the eigenvalues of matrix $A$:  \n",
    "$$A=\\begin{bmatrix}\n",
    "3 & 4 \\\\\n",
    "3 & -1\n",
    "\\end{bmatrix}$$"
   ]
  },
  {
   "cell_type": "code",
   "execution_count": 15,
   "metadata": {},
   "outputs": [
    {
     "name": "stdout",
     "output_type": "stream",
     "text": [
      "Matrix([[3 - a, 4], [3, -a - 1]])\n",
      "det = (a - 5)*(a + 3)\n",
      "a = [-3, 5]\n"
     ]
    }
   ],
   "source": [
    "a = sympy.symbols('a')\n",
    "A = sympy.Matrix([[3,4],\n",
    "                  [3,-1]])\n",
    "I2 = sympy.eye(2) # identity matrix\n",
    "\n",
    "# characteristic Eq.\n",
    "char_eq = A - a * I2\n",
    "print(char_eq)\n",
    "\n",
    "# determinant of char_eq\n",
    "char_eq_det = sympy.factor(sympy.det(char_eq))\n",
    "print('det =', char_eq_det)\n",
    "print('a =', sympy.solve(char_eq_det))"
   ]
  },
  {
   "cell_type": "markdown",
   "metadata": {},
   "source": [
    "Now we can find the corresponding eigenvectors by solving below equations:  \n",
    "$$\\begin{align*}\n",
    "\\begin{bmatrix}\n",
    "3 & 4 \\\\\n",
    "3 & -1\n",
    "\\end{bmatrix} \\begin{bmatrix}\n",
    "v_{11} \\\\\n",
    "v_{21}\n",
    "\\end{bmatrix} = -3\\cdot \\begin{bmatrix}\n",
    "v_{11} \\\\\n",
    "v_{21}\n",
    "\\end{bmatrix} &\\to \\begin{bmatrix}\n",
    "6 & 4 \\\\\n",
    "3 & 2\n",
    "\\end{bmatrix} \\begin{bmatrix}\n",
    "v_{11} \\\\\n",
    "v_{21}\n",
    "\\end{bmatrix} = \\begin{bmatrix}\n",
    "0 \\\\\n",
    "0\n",
    "\\end{bmatrix} \\\\\n",
    "\\begin{bmatrix}\n",
    "3 & 4 \\\\\n",
    "3 & -1\n",
    "\\end{bmatrix} \\begin{bmatrix}\n",
    "v_{12} \\\\\n",
    "v_{22}\n",
    "\\end{bmatrix} = 5\\cdot \\begin{bmatrix}\n",
    "v_{12} \\\\\n",
    "v_{22}\n",
    "\\end{bmatrix} &\\to \\begin{bmatrix}\n",
    "2 & 4 \\\\\n",
    "3 & -6\n",
    "\\end{bmatrix} \\begin{bmatrix}\n",
    "v_{12} \\\\\n",
    "v_{22}\n",
    "\\end{bmatrix} = \\begin{bmatrix}\n",
    "0 \\\\\n",
    "0\n",
    "\\end{bmatrix}\n",
    "\\end{align*}$$"
   ]
  },
  {
   "cell_type": "code",
   "execution_count": 16,
   "metadata": {},
   "outputs": [
    {
     "data": {
      "text/plain": [
       "(Matrix([\n",
       " [1, 2/3],\n",
       " [0,   0]]),\n",
       " (0,))"
      ]
     },
     "execution_count": 16,
     "metadata": {},
     "output_type": "execute_result"
    }
   ],
   "source": [
    "# rref of characteristic equation\n",
    "(A+3*sympy.eye(2)).rref()"
   ]
  },
  {
   "cell_type": "markdown",
   "metadata": {},
   "source": [
    "The rref of the characteristic expression, which is an irreversible matrix, contains free variables. In other words, a non trivial solution exists."
   ]
  },
  {
   "cell_type": "code",
   "execution_count": 17,
   "metadata": {},
   "outputs": [
    {
     "data": {
      "text/plain": [
       "[Matrix([\n",
       " [-2/3],\n",
       " [   1]])]"
      ]
     },
     "execution_count": 17,
     "metadata": {},
     "output_type": "execute_result"
    }
   ],
   "source": [
    "(A+3*sympy.eye(2)).nullspace()"
   ]
  },
  {
   "cell_type": "code",
   "execution_count": 18,
   "metadata": {},
   "outputs": [
    {
     "data": {
      "text/plain": [
       "[Matrix([\n",
       " [2],\n",
       " [1]])]"
      ]
     },
     "execution_count": 18,
     "metadata": {},
     "output_type": "execute_result"
    }
   ],
   "source": [
    "(A-5*sympy.eye(2)).nullspace()"
   ]
  },
  {
   "cell_type": "markdown",
   "metadata": {},
   "source": [
    "We use `nullspace()` function to calculate the non trivial solution of the characteristic equation, which is effectively the eigenvector of matrix $A$.\n",
    "\n",
    "Result  \n",
    "- Eigenvalue = {-3, 5}\n",
    "- Eigenvector = {<-2/3, 1>, <2, 1>}"
   ]
  },
  {
   "cell_type": "markdown",
   "metadata": {},
   "source": [
    "We can also use `eig()` function from `numpy.linalg` to find eigenvalues and eigenvectors."
   ]
  },
  {
   "cell_type": "code",
   "execution_count": 19,
   "metadata": {},
   "outputs": [
    {
     "name": "stdout",
     "output_type": "stream",
     "text": [
      "Eigenvalues = [ 5. -3.]\n",
      "Eigenvectors =\n",
      "[[ 0.89442719 -0.5547002 ]\n",
      " [ 0.4472136   0.83205029]]\n"
     ]
    }
   ],
   "source": [
    "result = la.eig(np.array(A, dtype=np.float64)) # change dtype from object to float to avoid error\n",
    "print('Eigenvalues =', result[0])\n",
    "print('Eigenvectors =')\n",
    "print(result[1])"
   ]
  },
  {
   "cell_type": "markdown",
   "metadata": {},
   "source": [
    "Though the eigenvectors look different from previous result, they are actually same with only scalar-fold diffrence."
   ]
  },
  {
   "cell_type": "markdown",
   "metadata": {},
   "source": [
    "If one eigenvalue of the below matrix is 7, determine the corresponding eigenvector.  \n",
    "$$A=\\begin{bmatrix}\n",
    "1 & 6 \\\\\n",
    "5 & 2\n",
    "\\end{bmatrix}$$"
   ]
  },
  {
   "cell_type": "code",
   "execution_count": 20,
   "metadata": {},
   "outputs": [
    {
     "name": "stdout",
     "output_type": "stream",
     "text": [
      "rref =\n",
      "(Matrix([\n",
      "[1, -1.0],\n",
      "[0,    0]]), (0,))\n",
      "\n",
      "Eigenvectors =\n",
      "[Matrix([\n",
      "[1.0],\n",
      "[  1]])]\n"
     ]
    }
   ],
   "source": [
    "A = np.array([[1,6],\n",
    "              [5,2]])\n",
    "i7 = 7 * np.eye(2)\n",
    "A_i7 = A - i7\n",
    "print('rref =')\n",
    "print(sympy.Matrix(A_i7).rref())\n",
    "print('\\nEigenvectors =')\n",
    "print(sympy.Matrix(A_i7).nullspace())"
   ]
  },
  {
   "cell_type": "markdown",
   "metadata": {},
   "source": [
    "The eigenvector corresponding to eigenvalue 7 is <1, 1>."
   ]
  },
  {
   "cell_type": "code",
   "execution_count": 21,
   "metadata": {},
   "outputs": [
    {
     "data": {
      "text/plain": [
       "EigResult(eigenvalues=array([-4.,  7.]), eigenvectors=array([[-0.76822128, -0.70710678],\n",
       "       [ 0.6401844 , -0.70710678]]))"
      ]
     },
     "execution_count": 21,
     "metadata": {},
     "output_type": "execute_result"
    }
   ],
   "source": [
    "Aeig = la.eig(A)\n",
    "Aeig"
   ]
  },
  {
   "cell_type": "markdown",
   "metadata": {},
   "source": [
    "We can confirm $Ax=\\lambda x$"
   ]
  },
  {
   "cell_type": "code",
   "execution_count": 22,
   "metadata": {},
   "outputs": [
    {
     "data": {
      "text/plain": [
       "array([ True,  True])"
      ]
     },
     "execution_count": 22,
     "metadata": {},
     "output_type": "execute_result"
    }
   ],
   "source": [
    "np.dot(A, Aeig[1][:,1]) == Aeig[0][1]*Aeig[1][:,1]"
   ]
  },
  {
   "cell_type": "markdown",
   "metadata": {},
   "source": [
    "Determine the eigenspace at eigenvalue 2 for below matrix:  \n",
    "$$A=\\begin{bmatrix}\n",
    "4 & -1 & 6 \\\\\n",
    "2 & 1 & 6 \\\\\n",
    "2 & -1 & 8\n",
    "\\end{bmatrix}$$"
   ]
  },
  {
   "cell_type": "code",
   "execution_count": 23,
   "metadata": {},
   "outputs": [
    {
     "data": {
      "text/plain": [
       "EigResult(eigenvalues=array([9., 2., 2.]), eigenvectors=array([[-0.57735027,  0.19407813, -0.83560737],\n",
       "       [-0.57735027, -0.95509858, -0.51437944],\n",
       "       [-0.57735027, -0.22387581,  0.19280588]]))"
      ]
     },
     "execution_count": 23,
     "metadata": {},
     "output_type": "execute_result"
    }
   ],
   "source": [
    "A = np.array([[4, -1, 6],\n",
    "              [2, 1, 6],\n",
    "              [2, -1, 8]])\n",
    "la.eig(A)"
   ]
  },
  {
   "cell_type": "markdown",
   "metadata": {},
   "source": [
    "There are 2 eigenvectors corresponding to eigenvalue 2."
   ]
  },
  {
   "cell_type": "code",
   "execution_count": 24,
   "metadata": {},
   "outputs": [
    {
     "data": {
      "text/plain": [
       "array([[ 0.19407813, -0.83560737],\n",
       "       [-0.95509858, -0.51437944],\n",
       "       [-0.22387581,  0.19280588]])"
      ]
     },
     "execution_count": 24,
     "metadata": {},
     "output_type": "execute_result"
    }
   ],
   "source": [
    "la.eig(A)[1][:,[1,2]]"
   ]
  },
  {
   "cell_type": "markdown",
   "metadata": {},
   "source": [
    "The null space from the characteristic equation for the eigenvalue 2 is calculated as follows."
   ]
  },
  {
   "cell_type": "code",
   "execution_count": 25,
   "metadata": {},
   "outputs": [
    {
     "data": {
      "text/plain": [
       "[Matrix([\n",
       " [1/2],\n",
       " [  1],\n",
       " [  0]]),\n",
       " Matrix([\n",
       " [-3],\n",
       " [ 0],\n",
       " [ 1]])]"
      ]
     },
     "execution_count": 25,
     "metadata": {},
     "output_type": "execute_result"
    }
   ],
   "source": [
    "A_I2 = sympy.Matrix(A) - 2*sympy.eye(3)\n",
    "A_I2.nullspace()"
   ]
  },
  {
   "cell_type": "markdown",
   "metadata": {},
   "source": [
    "The null space of the characteristic expression becomes the eigenspace, and the eigenvectors are the basis vectors of the eigenspace."
   ]
  },
  {
   "cell_type": "markdown",
   "metadata": {},
   "source": [
    "Determine the eigenvalues and eigenvectors of below matrix:  \n",
    "$$A=\\begin{bmatrix}\n",
    "3 & 6 & -8 \\\\\n",
    "0 & 0 & 6 \\\\\n",
    "0 & 0 & 2\n",
    "\\end{bmatrix}$$"
   ]
  },
  {
   "cell_type": "code",
   "execution_count": 26,
   "metadata": {},
   "outputs": [
    {
     "name": "stdout",
     "output_type": "stream",
     "text": [
      "rref =\n",
      "(Matrix([\n",
      "[1, 2, 0],\n",
      "[0, 0, 1],\n",
      "[0, 0, 0]]), (0, 2))\n",
      "\n",
      "Eigenvalues = [3. 0. 2.]\n",
      "Eigenvectors =\n",
      "[[ 1.         -0.89442719 -0.95346259]\n",
      " [ 0.          0.4472136   0.28603878]\n",
      " [ 0.          0.          0.09534626]]\n"
     ]
    }
   ],
   "source": [
    "A = np.array([[3,6,-8],[0,0,6],[0,0,2]]) \n",
    "print('rref =')\n",
    "print(sympy.Matrix(A).rref())\n",
    "\n",
    "evalue, evec = la.eig(A)\n",
    "print('\\nEigenvalues =', evalue)\n",
    "print('Eigenvectors =')\n",
    "print(evec)"
   ]
  },
  {
   "cell_type": "code",
   "execution_count": 27,
   "metadata": {},
   "outputs": [
    {
     "data": {
      "text/plain": [
       "[Matrix([\n",
       " [3],\n",
       " [0],\n",
       " [0]]),\n",
       " Matrix([\n",
       " [-8],\n",
       " [ 6],\n",
       " [ 2]])]"
      ]
     },
     "execution_count": 27,
     "metadata": {},
     "output_type": "execute_result"
    }
   ],
   "source": [
    "sympy.Matrix(A).columnspace()"
   ]
  },
  {
   "cell_type": "markdown",
   "metadata": {},
   "source": [
    "The above results show that there are 3 eigenvectors for 3 eigenvalues, but according to the column space, there are 2 basis vectors. The difference occurs because the eigenvalue 0 cannot have an eigenvector.\n",
    "\n",
    "Dimension of column space  \n",
    "= dimension of rank  \n",
    "= # of non zero eigenvalues"
   ]
  }
 ],
 "metadata": {
  "kernelspec": {
   "display_name": "ZZ_ML",
   "language": "python",
   "name": "python3"
  },
  "language_info": {
   "codemirror_mode": {
    "name": "ipython",
    "version": 3
   },
   "file_extension": ".py",
   "mimetype": "text/x-python",
   "name": "python",
   "nbconvert_exporter": "python",
   "pygments_lexer": "ipython3",
   "version": "3.10.13"
  }
 },
 "nbformat": 4,
 "nbformat_minor": 2
}
