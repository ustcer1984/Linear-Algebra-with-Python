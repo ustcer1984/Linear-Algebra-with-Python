{
 "cells": [
  {
   "cell_type": "code",
   "execution_count": 2,
   "metadata": {},
   "outputs": [],
   "source": [
    "# setup environment\n",
    "import numpy as np\n",
    "import numpy.linalg as la\n",
    "import sympy"
   ]
  },
  {
   "cell_type": "markdown",
   "metadata": {},
   "source": [
    "# 7 Decomposition\n",
    "## 7.1 QR decomposition\n",
    "\n",
    "$A$ is a $(m\\times n)$ dimension linearly independent matrix, which can be decomposed in below form:  \n",
    "$$A=QR$$  \n",
    "Where:  \n",
    "- $Q$ : $(m\\times n)$ dimension matrix **orthonormal** to column space of $A$\n",
    "- $R$ : $(n\\times n)$ dimension **upper triangular** reversible matrix whose diagonal elements are positive.\n",
    "    - $R$ stands for **right triangular**, which is effectively same as upper triangular. Someone also call it QU decomposition.\n",
    "\n",
    "This decomposition is called **QR decomposition**.\n",
    "\n",
    "Similarly we can define **RQ, QL, LQ** (L stands for lower or left triangular matrix) decomposition.\n",
    "\n",
    "How to calculate $R$ and $Q$ matrices? We can start with Gram-Schmidt process...\n",
    "\n",
    "**Wait !!!**\n",
    "\n",
    "What is the geometric meaning of QR decomposition? Why do we need to calculate $R$ and $Q$ matrices?\n",
    "\n",
    "Shouldn't we clear our purpose and objective before jumping into the calculation blindly?\n",
    "\n",
    "---\n",
    "\n",
    "Unfortunately no such info is provided in most textbooks. The great 3b1b vedios also never talked about this topic. So I spent some time doing research (meaning search and search again) and below is my conclusion (please comment if there is anything missing or wrong):  \n",
    "- The main purpose of QR decomposition is to ease the numerical calculation of eigenvalue, determinant, etc.\n",
    "- There seems to be no special geographic meaning, so it is not very important from mathematics point of view.\n",
    "- Many textbooks teach you to calculate $Q$ and $R$ by Gram-Schmidt process. It is easy to understand and you can apply it to manual calculation. However, it is prone to numerical error (due to limited accuracy of computer float number process).\n",
    "- From application point of view, I don't think mastering calculating QR decomposition by Gram-Schmidt process has any benefit, since you will certainly use computer to do the calcuation instead of manually. If you are a computer scientist trying to improve the algorithm efficiency and accuracy, Gram-Schmidt process is also not suitable due to its limit.\n",
    "\n",
    "In conclusion, you can safely ignore the manual calculation method by Gram-Schmidt process. If you like the detail, refer to this [link](https://en.wikipedia.org/wiki/QR_decomposition).\n",
    "\n",
    "Below is an example to do the calcuation in Python using `numpy.linalg` library."
   ]
  },
  {
   "cell_type": "code",
   "execution_count": 3,
   "metadata": {},
   "outputs": [
    {
     "name": "stdout",
     "output_type": "stream",
     "text": [
      "Q =\n",
      "[[-0.5         0.8660254   0.        ]\n",
      " [-0.5        -0.28867513  0.81649658]\n",
      " [-0.5        -0.28867513 -0.40824829]\n",
      " [-0.5        -0.28867513 -0.40824829]]\n",
      "\n",
      "R =\n",
      "[[-2.         -1.5        -1.        ]\n",
      " [ 0.         -0.8660254  -0.57735027]\n",
      " [ 0.          0.         -0.81649658]]\n"
     ]
    }
   ],
   "source": [
    "A = np.array([[1,0,0],\n",
    "              [1,1,0],\n",
    "              [1,1,1],\n",
    "              [1,1,1]])\n",
    "Q, R = la.qr(A)\n",
    "print('Q =')\n",
    "print(Q)\n",
    "print('\\nR =')\n",
    "print(R)"
   ]
  },
  {
   "cell_type": "markdown",
   "metadata": {},
   "source": [
    "## 7.2 Eigen-Decomposition"
   ]
  },
  {
   "cell_type": "markdown",
   "metadata": {},
   "source": [
    "**Eigen-decomposition** is to decompose matrix $A$ in below form:  \n",
    "$$A=PDP^{-1}$$  \n",
    "Where $D$ is a diagonal matrix whose diagonal elements are eigenvalues of $A$.\n",
    "\n",
    "$A$ has to be a linearly independent square matrix.\n",
    "\n",
    "Eigen-decomposition is just another name of **diagonalization** which was introduced in [Chapter 6](https://www.kaggle.com/code/ustcer1984/chapter-6-transform).\n",
    "\n",
    "Again manual calculation is not important, so I just ignore here."
   ]
  },
  {
   "cell_type": "code",
   "execution_count": 4,
   "metadata": {},
   "outputs": [
    {
     "data": {
      "text/plain": [
       "(Matrix([\n",
       " [0, 1, 1,  0],\n",
       " [1, 1, 1, -1],\n",
       " [1, 1, 1,  0],\n",
       " [1, 1, 0,  1]]),\n",
       " Matrix([\n",
       " [-2, 0, 0, 0],\n",
       " [ 0, 3, 0, 0],\n",
       " [ 0, 0, 5, 0],\n",
       " [ 0, 0, 0, 5]]))"
      ]
     },
     "execution_count": 4,
     "metadata": {},
     "output_type": "execute_result"
    }
   ],
   "source": [
    "M = sympy.Matrix([[3,-2,4,-2],\n",
    "                  [5,3,-3,-2],\n",
    "                  [5,-2,2,-2],\n",
    "                  [5,-2,-3,3]])\n",
    "M.diagonalize() # return P, D"
   ]
  },
  {
   "cell_type": "markdown",
   "metadata": {},
   "source": [
    "## 7.3 Spectral decomposition\n",
    "### 7.3.1 Diagonalization of symmetric matrix\n",
    "\n",
    "Square matrix $A$ is **symmetric** if $A=A^\\text T$ or $A_{ij}=A_{ji}$.\n",
    "\n",
    "Real (all elements are real numbers) symmetric matrix has below interesting properties:  \n",
    "- It always has real eigenvalues.\n",
    "- Its eigenvectors with distinct eigenvalues are orthogonal.\n",
    "    - Please note sometimes one eigenvalue can have multiple eigenvectors, they may not be orthogonal.\n",
    "\n",
    "If $A$ is a real symmetric matrix:  \n",
    "- You can form a diagonal matrix $D$ whose diagonal elements are $A$'s eigenvalues.\n",
    "- You can also put all the associated eigenvectors (normalized) together to form another matrix $P$.\n",
    "    - $P$ is always orthogonal $PP^\\text T=I$ or $P^{-1}=P^\\text T$\n",
    "\n",
    "Then magically $A = PDP^\\text T$, which is **diagonalization of symmetric matrix**.\n",
    "\n",
    "**NOTE** You may find above process not rigorous as one eigenvalue's eigenvector span may be rank 2 or higher. This issue can be easily solved by choose a set of orthonormal vectors from this span for $P$, and duplicate this eigenvalue multiple times in $D$.  \n",
    "More detail: --> [Link](https://www.ucl.ac.uk/~ucahmdl/LessonPlans/Lesson14.pdf)"
   ]
  },
  {
   "cell_type": "markdown",
   "metadata": {},
   "source": [
    "### 7.3.2 Spectral decomposition\n",
    "\n",
    "The set of eigenvalues of matrix A is called the **spectrum** of A.\n",
    "\n",
    "**Spectral decomposition** is just another name of eigen-decomposition.\n",
    "\n",
    "Spectral decomposition of a symmetric matrix is the same as giagonalization of this symmetric matrix as shown above.\n",
    "\n",
    "## 7.4 Singular Value Decomposition\n",
    "\n",
    "Given a $(m\\times n)$ matrix $A$, it is easy to find $A^\\text T A$ is a $(n\\times n)$ square matrix. The square root of the eigenvalues of $A^\\text T A$ are **singular values** of matrix $A$.\n",
    "\n",
    "**Singular Value Decomposition (SVD)** is shown below:  \n",
    "$$A=U\\Sigma V^\\text T$$  \n",
    "Where:  \n",
    "- $U$ is $(m\\times m)$ orthonormal matrix\n",
    "- $V^\\text T=V$ is $(n\\times n)$ orthonormal matrix\n",
    "- $\\Sigma$ is $(m\\times n)$ triangular matrix with singular values of A as triangular elements (if not enough, fill the rest with 0)"
   ]
  },
  {
   "cell_type": "code",
   "execution_count": 6,
   "metadata": {},
   "outputs": [
    {
     "name": "stdout",
     "output_type": "stream",
     "text": [
      "A =\n",
      "[[ 4 11 14]\n",
      " [ 8  7 -2]]\n",
      "\n",
      "U =\n",
      "[[ 0.9486833  -0.31622777]\n",
      " [ 0.31622777  0.9486833 ]]\n",
      "\n",
      "Singular values =\n",
      "[18.97366596  9.48683298]\n",
      "\n",
      "VT =\n",
      "[[ 0.33333333  0.66666667  0.66666667]\n",
      " [ 0.66666667  0.33333333 -0.66666667]\n",
      " [-0.66666667  0.66666667 -0.33333333]]\n"
     ]
    }
   ],
   "source": [
    "A = np.array([[4,11,14],\n",
    "              [8,7,-2]])\n",
    "U, S, VT = la.svd(A)\n",
    "print('A =')\n",
    "print(A)\n",
    "print('\\nU =')\n",
    "print(U)\n",
    "print('\\nSingular values =')\n",
    "print(S)\n",
    "print('\\nVT =')\n",
    "print(VT)"
   ]
  },
  {
   "cell_type": "code",
   "execution_count": 7,
   "metadata": {},
   "outputs": [
    {
     "name": "stdout",
     "output_type": "stream",
     "text": [
      "B =\n",
      "[[ 1 -1]\n",
      " [-2  2]\n",
      " [ 2 -2]]\n",
      "\n",
      "U =\n",
      "[[-0.33333333  0.66666667 -0.66666667]\n",
      " [ 0.66666667  0.66666667  0.33333333]\n",
      " [-0.66666667  0.33333333  0.66666667]]\n",
      "\n",
      "Singular values =\n",
      "[4.24264069 0.        ]\n",
      "\n",
      "VT =\n",
      "[[-0.70710678  0.70710678]\n",
      " [ 0.70710678  0.70710678]]\n"
     ]
    }
   ],
   "source": [
    "B = np.array([[1,-1],[-2,2],[2,-2]])\n",
    "U, S, VT = la.svd(B)\n",
    "print('B =')\n",
    "print(B)\n",
    "print('\\nU =')\n",
    "print(U)\n",
    "print('\\nSingular values =')\n",
    "print(S)\n",
    "print('\\nVT =')\n",
    "print(VT)"
   ]
  },
  {
   "cell_type": "markdown",
   "metadata": {},
   "source": [
    "Geometric meaning of SVD:  \n",
    "- Any linear transformation can be viewed as below 3 continous steps:\n",
    "    1. In domain space, can find an orthonomral basis set, **rotate** them to align with x, y, z, ... axis\n",
    "    2. **Strech** x, y, z, ... axis by the scalar times of singular values\n",
    "    3. In codomain space, can find another orthonormal basis set, **rotate** the x, y, z, ... axis to align with those basis vectors"
   ]
  }
 ],
 "metadata": {
  "kernelspec": {
   "display_name": "ZZ_ML",
   "language": "python",
   "name": "python3"
  },
  "language_info": {
   "codemirror_mode": {
    "name": "ipython",
    "version": 3
   },
   "file_extension": ".py",
   "mimetype": "text/x-python",
   "name": "python",
   "nbconvert_exporter": "python",
   "pygments_lexer": "ipython3",
   "version": "3.10.13"
  }
 },
 "nbformat": 4,
 "nbformat_minor": 2
}
