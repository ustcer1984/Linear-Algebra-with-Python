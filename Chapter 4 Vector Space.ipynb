{
 "cells": [
  {
   "cell_type": "code",
   "execution_count": 1,
   "metadata": {},
   "outputs": [],
   "source": [
    "# setup environment\n",
    "import numpy as np\n",
    "import scipy.linalg as la\n",
    "import sympy"
   ]
  },
  {
   "cell_type": "markdown",
   "metadata": {},
   "source": [
    "# 4 Vector Space\n",
    "\n",
    "Define **vector space**\n",
    "\n",
    "1. u ∈ V, v ∈ V → u + v ∈ V\n",
    "    - If u and v are vectors, the sum of the two is a vector.\n",
    "2. α ∈ C, u ∈ V → αu ∈ V\n",
    "    - If α is a scalar (C) and u is a vector (V), the product of these two,\n",
    "αu, is a vector.\n",
    "3. u+v = v+u\n",
    "    - The sum of the vectors constitutes a commutative property.\n",
    "4. u+(v+w) = (u+v) +w\n",
    "    - The sum of the vectors constitutes an associative property.\n",
    "5. There is a zero vector with all elements 0.\n",
    "6. u+(-u)=0\n",
    "7. α, β ∈ C, u ∈ V → α(β u )=(α β) u\n",
    "8. α ∈ C, u, v ∈ V → α (u+v)=α u + α v\n",
    "    - In the product of scalar and vector, the distribution property\n",
    "holds.\n",
    "9. α, β ∈ C, u ∈ V → (α + β)u =αu + βu\n",
    "    - There is a distribution property between two scalars and a vector.\n",
    "10. u ∈ V → 1•u =u"
   ]
  },
  {
   "cell_type": "markdown",
   "metadata": {},
   "source": [
    "## 4.1 Subspace\n",
    "\n",
    "In my own words:\n",
    "\n",
    "Vector space ($V$) means a set of vectors satisfying all the laws shown above. If we take some vectors ($v_1$, $v_2$, ..., $v_n$) from $V$, the linear combination of them forms $V$'s subspace ($H$).\n",
    "$$H=Span\\{v_1,v_2,\\dots ,v_n\\}$$"
   ]
  },
  {
   "cell_type": "markdown",
   "metadata": {},
   "source": [
    "Consider below vectors:  \n",
    "$$\\begin{align*}\n",
    "v_1 &= < &1,& &-2,& &-2 >  \\\\\n",
    "v_2 &= < &5,& &-4,& &-7 >  \\\\\n",
    "v_3 &= < &-3,& &1,& &0 >  \\\\\n",
    "c &= < &-4,& &3,& &h >\n",
    "\\end{align*}$$  \n",
    "Determine the value of $h$ so that $c$ is a vector in $H=Span\\{v_1, v_2, v_3\\}$. In another word, $c$ is a linear combination of $v_1$, $v_2$ and $v_3$."
   ]
  },
  {
   "cell_type": "code",
   "execution_count": 2,
   "metadata": {},
   "outputs": [
    {
     "data": {
      "text/plain": [
       "(Matrix([\n",
       " [1, 0, 0,      h/3 - 5/3],\n",
       " [0, 1, 0, 10/21 - 5*h/21],\n",
       " [0, 0, 1,   11/7 - 2*h/7]]),\n",
       " (0, 1, 2))"
      ]
     },
     "execution_count": 2,
     "metadata": {},
     "output_type": "execute_result"
    }
   ],
   "source": [
    "V = sympy.Matrix([[1,5,-3],\n",
    "                  [-2,-4,1],\n",
    "                  [-2,-7,0]])\n",
    "h = sympy.symbols('h')\n",
    "c = sympy.Matrix([[-4], [3], [h]])\n",
    "au = V.row_join(c)\n",
    "au.rref()"
   ]
  },
  {
   "cell_type": "markdown",
   "metadata": {},
   "source": [
    "There is a unique solution for any $h$, so $c$ is always a linear combination of $v_1$, $v_2$ and $v_3$, thus a vector in $H$."
   ]
  },
  {
   "cell_type": "markdown",
   "metadata": {},
   "source": [
    "### 4.1.1 Dimension of subspace\n",
    "\n",
    "$H=Span\\{v_1,v_2,\\dots ,v_n\\}$, its dimension is the maximum number of $v_i$ vectors linearly independent to each other.  \n",
    "- Maximum dimension is $n$ (number of vectors) or dimension of original vector space.\n",
    "- Minimum dimension is 0, if all $v_i$ vectors are 0 vectors."
   ]
  },
  {
   "cell_type": "markdown",
   "metadata": {},
   "source": [
    "Consider below equations:\n",
    "$$\n",
    "\\begin{align*}\n",
    "a-2b+5c-d&=0 \\\\\n",
    "-a-b+c&=0 \\\\\n",
    "\\to \\begin{bmatrix}\n",
    "1 & -2 & 5 & -1 \\\\\n",
    "-1 & -1 & 1 & 0\n",
    "\\end{bmatrix}\n",
    "\\begin{bmatrix}\n",
    "a \\\\\n",
    "b \\\\\n",
    "c \\\\\n",
    "d\n",
    "\\end{bmatrix}\n",
    "&=\n",
    "\\begin{bmatrix}\n",
    "0 \\\\\n",
    "0\n",
    "\\end{bmatrix}\n",
    "\\end{align*}\n",
    "$$\n",
    "What is the dimension of the standard matrix subspace?"
   ]
  },
  {
   "cell_type": "code",
   "execution_count": 4,
   "metadata": {},
   "outputs": [
    {
     "data": {
      "text/plain": [
       "(Matrix([\n",
       " [1, 0,  1, -1/3],\n",
       " [0, 1, -2,  1/3]]),\n",
       " (0, 1))"
      ]
     },
     "execution_count": 4,
     "metadata": {},
     "output_type": "execute_result"
    }
   ],
   "source": [
    "A = sympy.Matrix([[1,-2,5,-1],\n",
    "                  [-1,-1,1,0]])\n",
    "A.rref()"
   ]
  },
  {
   "cell_type": "markdown",
   "metadata": {},
   "source": [
    "2 leading variables, indicating a 2 dimension subspace."
   ]
  },
  {
   "cell_type": "markdown",
   "metadata": {},
   "source": [
    "## 4.2 Basis\n",
    "\n",
    "In the vector space of linear algebra, the basis is linearly independent vectors.\n",
    "\n",
    "$B=\\{b_1,b_2,\\dots ,b_n\\}$  \n",
    "$H=Span\\{b_1,b_2,\\dots ,b_n\\}$  \n",
    "If $B$ is linearly independent, then it is basis of $H$."
   ]
  },
  {
   "cell_type": "markdown",
   "metadata": {},
   "source": [
    "### 4.2.1 Standard basis\n",
    "\n",
    "The vectors inside an identity matrix form the **standard basis** of the subspace.\n",
    "\n",
    "If a matrix's rref is identity matrix, then its vectors are the basis."
   ]
  },
  {
   "cell_type": "code",
   "execution_count": 5,
   "metadata": {},
   "outputs": [
    {
     "data": {
      "text/plain": [
       "(Matrix([\n",
       " [1, 0, 0],\n",
       " [0, 1, 0],\n",
       " [0, 0, 1]]),\n",
       " (0, 1, 2))"
      ]
     },
     "execution_count": 5,
     "metadata": {},
     "output_type": "execute_result"
    }
   ],
   "source": [
    "V = sympy.Matrix([[3,0,6],\n",
    "                  [-4,1,7],\n",
    "                  [-2,1,3]])\n",
    "V.rref()"
   ]
  },
  {
   "cell_type": "markdown",
   "metadata": {},
   "source": [
    "The vectors in $V$ shown above are basis vectors."
   ]
  },
  {
   "cell_type": "code",
   "execution_count": 7,
   "metadata": {},
   "outputs": [
    {
     "data": {
      "text/plain": [
       "(Matrix([\n",
       " [1, 0, 5],\n",
       " [0, 1, 3],\n",
       " [0, 0, 0]]),\n",
       " (0, 1))"
      ]
     },
     "execution_count": 7,
     "metadata": {},
     "output_type": "execute_result"
    }
   ],
   "source": [
    "V = sympy.Matrix([[0,2,6],\n",
    "                  [2,2,16],\n",
    "                  [-1,0,-5]])\n",
    "V.rref()"
   ]
  },
  {
   "cell_type": "markdown",
   "metadata": {},
   "source": [
    "These vectors in $V$ are linearly **dependent**, so they cannot form the basis of their span space. However, it is easy to find that any 2 of them are linearly independent, thus can form the basis."
   ]
  },
  {
   "cell_type": "markdown",
   "metadata": {},
   "source": [
    "Determine the basis of the following vectors:\n",
    "\n",
    "$$\\begin{align*}\n",
    "v_1&=<1,-3,4>\\\\\n",
    "v_2&=<6,2,-1>\\\\\n",
    "v_3&=<2,-2,3>\\\\\n",
    "v_4&=<-4,-8,9>\n",
    "\\end{align*}$$"
   ]
  },
  {
   "cell_type": "code",
   "execution_count": 8,
   "metadata": {},
   "outputs": [
    {
     "data": {
      "text/plain": [
       "(Matrix([\n",
       " [1, 0, 4/5,  2],\n",
       " [0, 1, 1/5, -1],\n",
       " [0, 0,   0,  0]]),\n",
       " (0, 1))"
      ]
     },
     "execution_count": 8,
     "metadata": {},
     "output_type": "execute_result"
    }
   ],
   "source": [
    "V = sympy.Matrix([[1,6,2,-4],\n",
    "                  [-3,2,-2,-8],\n",
    "                  [4,-1,3,9]])\n",
    "V.rref()"
   ]
  },
  {
   "cell_type": "markdown",
   "metadata": {},
   "source": [
    "In the rref form, columns 1 and 2 are pivot columns. It means $v_1$ and $v_2$ form the basis of the subspace.  \n",
    "$$H=Span\\{v_1,v_2\\}$$  \n",
    "$v_3$ and $v_4$ are linear combination of these base vectors."
   ]
  },
  {
   "cell_type": "markdown",
   "metadata": {},
   "source": [
    "## 4.3 Null space and Column space\n",
    "### 4.3.1 Null Space\n",
    "\n",
    "The null space $\\text{Nul}(A)$ of matrix $A$ in m × n dimension is the set of all solutions of the homogeneous linear equation $Ax = 0$.\n",
    "\n",
    "To determine if vector $u$ is included in $\\text{Nul}(A)$, we just need to check if $Au = 0$ is established.\n",
    "\n",
    "Consider below matrix $A$ and vector $u$.  \n",
    "A=[< 1,-3,-2 >, < 5, 9, 1 >]  \n",
    "u=< 5, 3,-2 >"
   ]
  },
  {
   "cell_type": "code",
   "execution_count": 9,
   "metadata": {},
   "outputs": [
    {
     "data": {
      "text/plain": [
       "array([[0],\n",
       "       [0]])"
      ]
     },
     "execution_count": 9,
     "metadata": {},
     "output_type": "execute_result"
    }
   ],
   "source": [
    "A = np.array([[1,-3,-2],\n",
    "              [-5,9,1]])\n",
    "u = np.array([[5],[3],[-2]])\n",
    "np.dot(A, u)"
   ]
  },
  {
   "cell_type": "markdown",
   "metadata": {},
   "source": [
    "∴ u ⊂ Nul A"
   ]
  },
  {
   "cell_type": "markdown",
   "metadata": {},
   "source": [
    "In below equation, calculate the null space of its standard matrix A.  \n",
    "$$\n",
    "\\begin{bmatrix}\n",
    "-3 & 6 & -1 & 1 & -7 \\\\\n",
    "1 & -2 & 2 & 3 & 1 \\\\\n",
    "2 & -4 & 5 & 8 & -4\n",
    "\\end{bmatrix}\n",
    "\\begin{bmatrix}\n",
    "x_1 \\\\\n",
    "x_2 \\\\\n",
    "x_3 \\\\\n",
    "x_4 \\\\\n",
    "x_5\n",
    "\\end{bmatrix} = \n",
    "\\begin{bmatrix}\n",
    "0 \\\\\n",
    "0 \\\\\n",
    "0\n",
    "\\end{bmatrix}\n",
    "$$"
   ]
  },
  {
   "cell_type": "code",
   "execution_count": 13,
   "metadata": {},
   "outputs": [
    {
     "data": {
      "text/plain": [
       "(Matrix([\n",
       " [1, -2, 0, -1, 0],\n",
       " [0,  0, 1,  2, 0],\n",
       " [0,  0, 0,  0, 1]]),\n",
       " (0, 2, 4))"
      ]
     },
     "execution_count": 13,
     "metadata": {},
     "output_type": "execute_result"
    }
   ],
   "source": [
    "A = sympy.Matrix([[-3,6,-1,1,-7],\n",
    "                  [1,-2,2,3,1],\n",
    "                  [2,-4,5,8,-4]])\n",
    "A.rref()"
   ]
  },
  {
   "cell_type": "markdown",
   "metadata": {},
   "source": [
    "The result shows that variables $x_1$, $x_3$ depend on the remaining variables.  \n",
    "$$\n",
    "\\text{Nul}(A)=\\begin{bmatrix}\n",
    "x_1 \\\\\n",
    "x_2 \\\\\n",
    "x_3 \\\\\n",
    "x_4 \\\\\n",
    "x_5\n",
    "\\end{bmatrix} = \\begin{bmatrix}\n",
    "2x_2+x_4 \\\\\n",
    "x_2 \\\\\n",
    "-2x_4 \\\\\n",
    "x_4 \\\\\n",
    "0\n",
    "\\end{bmatrix} = \\begin{bmatrix}\n",
    "2 & 1 \\\\\n",
    "1 & 0 \\\\\n",
    "0 & -2 \\\\\n",
    "0 & 1 \\\\\n",
    "0 & 0\n",
    "\\end{bmatrix} \\begin{bmatrix}\n",
    "x_2 \\\\\n",
    "x_4\n",
    "\\end{bmatrix}\n",
    "$$\n",
    "\n",
    "Nul A=Span {< 2, 1, 0, 0, 0 >, < 1, 0, -2, 1, 0 >}"
   ]
  },
  {
   "cell_type": "markdown",
   "metadata": {},
   "source": [
    "We can also use the function `nullspace()` from `sympy`."
   ]
  },
  {
   "cell_type": "code",
   "execution_count": 14,
   "metadata": {},
   "outputs": [
    {
     "name": "stdout",
     "output_type": "stream",
     "text": [
      "[Matrix([\n",
      "[2],\n",
      "[1],\n",
      "[0],\n",
      "[0],\n",
      "[0]]), Matrix([\n",
      "[ 1],\n",
      "[ 0],\n",
      "[-2],\n",
      "[ 1],\n",
      "[ 0]])]\n"
     ]
    }
   ],
   "source": [
    "nul_A = A.nullspace()\n",
    "print(nul_A)"
   ]
  },
  {
   "cell_type": "code",
   "execution_count": 15,
   "metadata": {},
   "outputs": [
    {
     "name": "stdout",
     "output_type": "stream",
     "text": [
      "[[2 1]\n",
      " [1 0]\n",
      " [0 -2]\n",
      " [0 1]\n",
      " [0 0]]\n"
     ]
    }
   ],
   "source": [
    "re = nul_A[0]\n",
    "for i in range(1, len(nul_A)):\n",
    "    re = np.hstack([re, nul_A[i]])\n",
    "print(re)"
   ]
  },
  {
   "cell_type": "markdown",
   "metadata": {},
   "source": [
    "The dimension of null space:  \n",
    "- dim Nul = number of free variables in the homogeneous equation."
   ]
  },
  {
   "cell_type": "markdown",
   "metadata": {},
   "source": [
    "### 4.3.2 Column Space\n",
    "\n",
    "The set of linearly independent vectors in a linear combination with the m × n dimensional matrix **A** is called column space and is represented by **Col A**"
   ]
  },
  {
   "cell_type": "code",
   "execution_count": 17,
   "metadata": {},
   "outputs": [
    {
     "data": {
      "text/latex": [
       "$\\displaystyle \\left[\\begin{matrix}-3 & 6 & -1 & 1 & -7\\\\1 & -2 & 2 & 3 & 1\\\\2 & -4 & 5 & 8 & -4\\end{matrix}\\right]$"
      ],
      "text/plain": [
       "Matrix([\n",
       "[-3,  6, -1, 1, -7],\n",
       "[ 1, -2,  2, 3,  1],\n",
       "[ 2, -4,  5, 8, -4]])"
      ]
     },
     "execution_count": 17,
     "metadata": {},
     "output_type": "execute_result"
    }
   ],
   "source": [
    "A"
   ]
  },
  {
   "cell_type": "code",
   "execution_count": 18,
   "metadata": {},
   "outputs": [
    {
     "data": {
      "text/plain": [
       "(Matrix([\n",
       " [1, -2, 0, -1, 0],\n",
       " [0,  0, 1,  2, 0],\n",
       " [0,  0, 0,  0, 1]]),\n",
       " (0, 2, 4))"
      ]
     },
     "execution_count": 18,
     "metadata": {},
     "output_type": "execute_result"
    }
   ],
   "source": [
    "A.rref()"
   ]
  },
  {
   "cell_type": "code",
   "execution_count": 19,
   "metadata": {},
   "outputs": [
    {
     "data": {
      "text/latex": [
       "$\\displaystyle \\left[\\begin{matrix}-3 & -1 & -7\\\\1 & 2 & 1\\\\2 & 5 & -4\\end{matrix}\\right]$"
      ],
      "text/plain": [
       "Matrix([\n",
       "[-3, -1, -7],\n",
       "[ 1,  2,  1],\n",
       "[ 2,  5, -4]])"
      ]
     },
     "execution_count": 19,
     "metadata": {},
     "output_type": "execute_result"
    }
   ],
   "source": [
    "A_basis = A[:, [0,2,4]]\n",
    "A_basis"
   ]
  },
  {
   "cell_type": "markdown",
   "metadata": {},
   "source": [
    "We can also calculate the column space using `columnspace()` function from `sympy`."
   ]
  },
  {
   "cell_type": "code",
   "execution_count": 21,
   "metadata": {},
   "outputs": [
    {
     "data": {
      "text/plain": [
       "[Matrix([\n",
       " [-3],\n",
       " [ 1],\n",
       " [ 2]]),\n",
       " Matrix([\n",
       " [-1],\n",
       " [ 2],\n",
       " [ 5]]),\n",
       " Matrix([\n",
       " [-7],\n",
       " [ 1],\n",
       " [-4]])]"
      ]
     },
     "execution_count": 21,
     "metadata": {},
     "output_type": "execute_result"
    }
   ],
   "source": [
    "A.columnspace()"
   ]
  },
  {
   "cell_type": "markdown",
   "metadata": {},
   "source": [
    "Col A = Span {< -3, 1, 2 >, < -1, 2, 5 >, < -7, 1, -4 >}"
   ]
  },
  {
   "cell_type": "markdown",
   "metadata": {},
   "source": [
    "### 4.3.3 Row Space & Left Null Space\n",
    "\n",
    "For standard matrix $A$ with dimension $m\\times n$\n",
    "\n",
    "**Column space** $C(A)$ dim $r$ : $Ax$  \n",
    "**Row space** $C(A^\\text{T})$ dim $r$ : $A^\\text{T}y$  \n",
    "**Null space** $N(A^\\text{T})$ dim $n$-$r$ : $Ax=0$  \n",
    "**Left null space** $N(A)$ dim $m$-$r$ : $A^\\text{T}y=0$\n",
    "\n",
    "Column space + Left null space = $R^m$  \n",
    "Row space + Null space = $R^n$"
   ]
  }
 ],
 "metadata": {
  "kernelspec": {
   "display_name": "ZZ_ML",
   "language": "python",
   "name": "python3"
  },
  "language_info": {
   "codemirror_mode": {
    "name": "ipython",
    "version": 3
   },
   "file_extension": ".py",
   "mimetype": "text/x-python",
   "name": "python",
   "nbconvert_exporter": "python",
   "pygments_lexer": "ipython3",
   "version": "3.10.13"
  }
 },
 "nbformat": 4,
 "nbformat_minor": 2
}
