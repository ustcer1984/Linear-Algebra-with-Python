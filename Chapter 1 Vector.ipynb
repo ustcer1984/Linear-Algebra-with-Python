{
 "cells": [
  {
   "cell_type": "code",
   "execution_count": 12,
   "metadata": {},
   "outputs": [],
   "source": [
    "# setup environment\n",
    "import numpy as np\n",
    "import numpy.linalg as la\n",
    "import pandas as pd\n",
    "\n",
    "import matplotlib.pyplot as plt\n",
    "import seaborn as sns\n",
    "sns.set_theme()"
   ]
  },
  {
   "cell_type": "markdown",
   "metadata": {},
   "source": [
    "# 1 Vector\n",
    "\n",
    "## 1.1 Vector\n",
    "\n",
    "### 1.1.1 Scalar and Vector\n",
    "\n",
    "Calculate distance of point (5, 3) to origin (0, 0)."
   ]
  },
  {
   "cell_type": "code",
   "execution_count": 3,
   "metadata": {},
   "outputs": [
    {
     "name": "stdout",
     "output_type": "stream",
     "text": [
      "5.83\n"
     ]
    }
   ],
   "source": [
    "x, y = 5.0, 3.0\n",
    "distance = (x**2 + y**2)**0.5\n",
    "print(round(distance, 2))"
   ]
  },
  {
   "cell_type": "markdown",
   "metadata": {},
   "source": [
    "Calculate the distance (to origin) of a group of points."
   ]
  },
  {
   "cell_type": "code",
   "execution_count": 4,
   "metadata": {},
   "outputs": [
    {
     "data": {
      "text/html": [
       "<div>\n",
       "<style scoped>\n",
       "    .dataframe tbody tr th:only-of-type {\n",
       "        vertical-align: middle;\n",
       "    }\n",
       "\n",
       "    .dataframe tbody tr th {\n",
       "        vertical-align: top;\n",
       "    }\n",
       "\n",
       "    .dataframe thead th {\n",
       "        text-align: right;\n",
       "    }\n",
       "</style>\n",
       "<table border=\"1\" class=\"dataframe\">\n",
       "  <thead>\n",
       "    <tr style=\"text-align: right;\">\n",
       "      <th></th>\n",
       "      <th>x</th>\n",
       "      <th>y</th>\n",
       "      <th>distance</th>\n",
       "    </tr>\n",
       "  </thead>\n",
       "  <tbody>\n",
       "    <tr>\n",
       "      <th>b</th>\n",
       "      <td>5</td>\n",
       "      <td>3</td>\n",
       "      <td>5.830952</td>\n",
       "    </tr>\n",
       "    <tr>\n",
       "      <th>g</th>\n",
       "      <td>3</td>\n",
       "      <td>-4</td>\n",
       "      <td>5.000000</td>\n",
       "    </tr>\n",
       "    <tr>\n",
       "      <th>r</th>\n",
       "      <td>-2</td>\n",
       "      <td>-4</td>\n",
       "      <td>4.472136</td>\n",
       "    </tr>\n",
       "    <tr>\n",
       "      <th>k</th>\n",
       "      <td>-3</td>\n",
       "      <td>5</td>\n",
       "      <td>5.830952</td>\n",
       "    </tr>\n",
       "  </tbody>\n",
       "</table>\n",
       "</div>"
      ],
      "text/plain": [
       "   x  y  distance\n",
       "b  5  3  5.830952\n",
       "g  3 -4  5.000000\n",
       "r -2 -4  4.472136\n",
       "k -3  5  5.830952"
      ]
     },
     "execution_count": 4,
     "metadata": {},
     "output_type": "execute_result"
    }
   ],
   "source": [
    "points = np.array([[5, 3],  # point b\n",
    "                   [3, -4], # point g \n",
    "                   [-2, -4],# point r\n",
    "                   [-3, 5]  # point k\n",
    "                   ])\n",
    "re = pd.DataFrame(points,\n",
    "                  columns = ['x', 'y'],\n",
    "                  index = ['b', 'g', 'r', 'k'])\n",
    "re['distance'] = (re.x**2 + re.y**2)**0.5\n",
    "re"
   ]
  },
  {
   "cell_type": "markdown",
   "metadata": {},
   "source": [
    "- **Vector**: values with magnitude and direction\n",
    "- **Scalar**: value with size only"
   ]
  },
  {
   "cell_type": "markdown",
   "metadata": {},
   "source": [
    "### 1.1.2 Dimension and axis\n",
    "\n",
    "Row vector and column vector."
   ]
  },
  {
   "cell_type": "code",
   "execution_count": 5,
   "metadata": {},
   "outputs": [
    {
     "name": "stdout",
     "output_type": "stream",
     "text": [
      "Row vector\n",
      "[1 2]\n",
      "\n",
      "Column vector\n",
      "[[1]\n",
      " [2]]\n"
     ]
    }
   ],
   "source": [
    "print('Row vector')\n",
    "a = np.array([1,2])\n",
    "print(a)\n",
    "print('\\nColumn vector')\n",
    "a1 = np.array([[1], [2]])\n",
    "print(a1)"
   ]
  },
  {
   "cell_type": "markdown",
   "metadata": {},
   "source": [
    "In `numpy.array`  \n",
    "- Each row represents a dimension\n",
    "- Each column represents a point\n",
    "\n",
    "Calculate array dimension and shape:"
   ]
  },
  {
   "cell_type": "code",
   "execution_count": 7,
   "metadata": {},
   "outputs": [
    {
     "name": "stdout",
     "output_type": "stream",
     "text": [
      "a\n",
      "\tdimension = 1\n",
      "\tshape = (2,)\n",
      "a1\n",
      "\tdimension = 2\n",
      "\tshape = (2, 1)\n"
     ]
    }
   ],
   "source": [
    "print('a')\n",
    "print(f'\\tdimension = {a.ndim}')\n",
    "print(f'\\tshape = {a.shape}')\n",
    "print('a1')\n",
    "print(f'\\tdimension = {a1.ndim}')\n",
    "print(f'\\tshape = {a1.shape}')"
   ]
  },
  {
   "cell_type": "markdown",
   "metadata": {},
   "source": [
    "A multiple column `numpy.array` holds multiple vectors and forms a **matrix**. "
   ]
  },
  {
   "cell_type": "code",
   "execution_count": 9,
   "metadata": {},
   "outputs": [
    {
     "name": "stdout",
     "output_type": "stream",
     "text": [
      "arr (matrix):\n",
      "[[ 5.  3. -2. -3.]\n",
      " [ 3. -4. -4.  5.]]\n",
      "\tdimension = 2\n",
      "\tshape = (2, 4)\n"
     ]
    }
   ],
   "source": [
    "arr = np.array(\n",
    "    [[5., 3., -2., -3.],\n",
    "     [3., -4., -4., 5.]]\n",
    ")\n",
    "print('arr (matrix):')\n",
    "print(arr)\n",
    "print(f'\\tdimension = {arr.ndim}')\n",
    "print(f'\\tshape = {arr.shape}')"
   ]
  },
  {
   "cell_type": "markdown",
   "metadata": {},
   "source": [
    "Change array shape:"
   ]
  },
  {
   "cell_type": "code",
   "execution_count": 11,
   "metadata": {},
   "outputs": [
    {
     "data": {
      "text/plain": [
       "array([[ 5.,  3.],\n",
       "       [-2., -3.],\n",
       "       [ 3., -4.],\n",
       "       [-4.,  5.]])"
      ]
     },
     "execution_count": 11,
     "metadata": {},
     "output_type": "execute_result"
    }
   ],
   "source": [
    "arr.reshape(-1, 2) # number of rows to be determined by other arguments"
   ]
  },
  {
   "cell_type": "markdown",
   "metadata": {},
   "source": [
    "### 1.1.3 Norm and Unit Vector\n",
    "\n",
    "**Norm or Euclidean distance** of a vector from point a = (a1, a2, a3) to b = (b1, b2, b3) is:  \n",
    "$$\\left\\| a-b \\right\\|=\\sqrt{(a_1-b_1)^2+(a_2-b_2)^2+(a_3-b_3)^2}$$\n",
    "\n",
    "If the start point is not specified, it is considered as the origin (0, 0, 0)."
   ]
  },
  {
   "cell_type": "code",
   "execution_count": 13,
   "metadata": {},
   "outputs": [
    {
     "data": {
      "text/plain": [
       "5.830951894845301"
      ]
     },
     "execution_count": 13,
     "metadata": {},
     "output_type": "execute_result"
    }
   ],
   "source": [
    "la.norm([[5.0],\n",
    "         [3.0]])"
   ]
  },
  {
   "cell_type": "markdown",
   "metadata": {},
   "source": [
    "The **unit vector** is a vector whose size (norm) is 1."
   ]
  },
  {
   "cell_type": "code",
   "execution_count": 15,
   "metadata": {},
   "outputs": [
    {
     "name": "stdout",
     "output_type": "stream",
     "text": [
      "[[0.27472113]\n",
      " [0.96152395]]\n",
      "1.0\n"
     ]
    }
   ],
   "source": [
    "a = np.array([[2],\n",
    "              [7]])\n",
    "a_norm = la.norm(a)\n",
    "a_unit = a / a_norm\n",
    "print(a_unit)\n",
    "print(la.norm(a_unit))"
   ]
  },
  {
   "cell_type": "markdown",
   "metadata": {},
   "source": [
    "## 1.2 Vector Operations\n",
    "\n",
    "### 1.2.1 Addition and subtraction, and scalar times\n",
    "\n",
    "Addition and subtraction can only apply between vectors of same shape:"
   ]
  },
  {
   "cell_type": "code",
   "execution_count": 16,
   "metadata": {},
   "outputs": [
    {
     "data": {
      "text/plain": [
       "array([18, 17])"
      ]
     },
     "execution_count": 16,
     "metadata": {},
     "output_type": "execute_result"
    }
   ],
   "source": [
    "a = np.array([10, 15])\n",
    "b = np.array([8, 2])\n",
    "c = np.array([1, 2, 3])\n",
    "\n",
    "a+b"
   ]
  },
  {
   "cell_type": "code",
   "execution_count": 17,
   "metadata": {},
   "outputs": [
    {
     "data": {
      "text/plain": [
       "array([ 2, 13])"
      ]
     },
     "execution_count": 17,
     "metadata": {},
     "output_type": "execute_result"
    }
   ],
   "source": [
    "a-b"
   ]
  },
  {
   "cell_type": "code",
   "execution_count": 18,
   "metadata": {},
   "outputs": [
    {
     "ename": "ValueError",
     "evalue": "operands could not be broadcast together with shapes (2,) (3,) ",
     "output_type": "error",
     "traceback": [
      "\u001b[1;31m---------------------------------------------------------------------------\u001b[0m",
      "\u001b[1;31mValueError\u001b[0m                                Traceback (most recent call last)",
      "Cell \u001b[1;32mIn[18], line 1\u001b[0m\n\u001b[1;32m----> 1\u001b[0m \u001b[43ma\u001b[49m\u001b[38;5;241;43m-\u001b[39;49m\u001b[43mc\u001b[49m\n",
      "\u001b[1;31mValueError\u001b[0m: operands could not be broadcast together with shapes (2,) (3,) "
     ]
    }
   ],
   "source": [
    "a-c"
   ]
  },
  {
   "cell_type": "markdown",
   "metadata": {},
   "source": [
    "### 1.2.2 Inner (dot) product\n",
    "\n",
    "If two vectors have the same shape, then must transpose one of them before calculating dot product."
   ]
  },
  {
   "cell_type": "code",
   "execution_count": 19,
   "metadata": {},
   "outputs": [
    {
     "data": {
      "text/plain": [
       "array([[24]])"
      ]
     },
     "execution_count": 19,
     "metadata": {},
     "output_type": "execute_result"
    }
   ],
   "source": [
    "a = np.array([[2],\n",
    "              [7]])\n",
    "b = np.array([[5],\n",
    "              [2]])\n",
    "np.dot(a.T, b)"
   ]
  },
  {
   "cell_type": "markdown",
   "metadata": {},
   "source": [
    "The dot product can be calculated by applying the angle between two vectors.  \n",
    "$$\\begin{align*}\n",
    "u\\cdot v&=\\left\\| u \\right\\|\\left\\| v \\right\\|\\cos(\\theta)\\\\\n",
    "\\cos(\\theta)&=\\frac{u\\cdot v}{\\left\\| u \\right\\|\\left\\| v \\right\\|}\n",
    "\\end{align*}$$"
   ]
  },
  {
   "cell_type": "code",
   "execution_count": 22,
   "metadata": {},
   "outputs": [
    {
     "name": "stdout",
     "output_type": "stream",
     "text": [
      "24.0\n"
     ]
    }
   ],
   "source": [
    "theta = 52.25 # angle between vectors a and b\n",
    "rad = np.radians(theta) # convert degree to radians\n",
    "inner = la.norm(a)*la.norm(b)*np.cos(rad)\n",
    "print(f'{inner:.1f}')"
   ]
  },
  {
   "cell_type": "markdown",
   "metadata": {},
   "source": [
    "Calculate the angle between vectors a and b:"
   ]
  },
  {
   "cell_type": "code",
   "execution_count": 23,
   "metadata": {},
   "outputs": [
    {
     "name": "stdout",
     "output_type": "stream",
     "text": [
      "[[52.25319461]]\n"
     ]
    }
   ],
   "source": [
    "inner = np.dot(a.T, b)\n",
    "a_norm = la.norm(a)\n",
    "b_norm = la.norm(b)\n",
    "cos = inner / (a_norm * b_norm)\n",
    "rad = np.arccos(cos)\n",
    "deg = np.rad2deg(rad)\n",
    "print(deg)"
   ]
  },
  {
   "cell_type": "markdown",
   "metadata": {},
   "source": [
    "### 1.2.3 Orthogonal vectors\n",
    "\n",
    "If two vectors are at right angles, the dot product is zero. These vectors are called **orthogonal vectors**.\n",
    "\n",
    "If vector $u$ is perpendicular to vector $v$, then:\n",
    "$$\\begin{align*}\n",
    "\\left\\| u+v \\right\\|&=\\left\\| u-v \\right\\|\\\\\n",
    "u\\cdot v&=0\n",
    "\\end{align*}$$"
   ]
  },
  {
   "cell_type": "markdown",
   "metadata": {},
   "source": [
    "### 1.2.4 Cauchy-Schwarz inequality\n",
    "\n",
    "For any two vectors $u$ and $v$:\n",
    "$$\\left\\| u\\cdot v \\right\\|\\leqslant \\left\\| u \\right\\|\\left\\| v \\right\\|$$\n",
    "The equal sign is established when the two vectors are parallel (multiples of each other)."
   ]
  },
  {
   "cell_type": "code",
   "execution_count": 27,
   "metadata": {},
   "outputs": [
    {
     "name": "stdout",
     "output_type": "stream",
     "text": [
      "abs(inner) = 8\n",
      "Norm product = 10.0\n"
     ]
    }
   ],
   "source": [
    "u = np.array([[-1], [2]])\n",
    "v = np.array([[4], [-2]])\n",
    "inner = np.dot(u.T, v)\n",
    "print(f'abs(inner) = {abs(inner[0, 0])}')\n",
    "normProd = la.norm(u) * la.norm(v)\n",
    "print(f'Norm product = {normProd:.1f}')"
   ]
  },
  {
   "cell_type": "markdown",
   "metadata": {},
   "source": [
    "### 1.2.5 Triangle inequality\n",
    "\n",
    "The norm of two vectors' sum is less than or equal to the sum of each vector norm.\n",
    "$$\\left\\| u+v \\right\\|\\leqslant \\left\\| u \\right\\|+\\left\\| v \\right\\|$$"
   ]
  },
  {
   "cell_type": "code",
   "execution_count": 34,
   "metadata": {},
   "outputs": [
    {
     "name": "stdout",
     "output_type": "stream",
     "text": [
      "|u+v| = 3.0\n",
      "|u|+|v| = 6.708\n"
     ]
    }
   ],
   "source": [
    "print(f'|u+v| = {la.norm(u+v)}')\n",
    "print(f'|u|+|v| = {la.norm(u)+la.norm(v):.3f}')"
   ]
  },
  {
   "cell_type": "markdown",
   "metadata": {},
   "source": [
    "### 1.2.6 Projections\n",
    "\n",
    "For two vectors $a$ and $b$ with angle $\\theta$ between them, let $b_{proj}$ be the projection of $b$ on $a$.  \n",
    "$$\\begin{align*}\n",
    "\\cos(\\theta)&=\\frac{\\left\\| b_{proj} \\right\\|}{\\left\\| b \\right\\|}=\\frac{a\\cdot b}{\\left\\| a \\right\\|\\left\\| b \\right\\|}\\\\\n",
    "\\left\\| b_{proj} \\right\\|&=\\frac{a\\cdot b}{\\left\\| a \\right\\|}=a_{unit}\\cdot b\\\\\n",
    "b_{proj}&=(a_{unit}\\cdot b)\\cdot a=\\frac{a\\cdot b}{\\left\\| a \\right\\|^2}\\cdot a\n",
    "\\end{align*}$$\n",
    "\n",
    "Code to compute the orthographic $b_{proj}$ of vector $b$ over vector $a$:"
   ]
  },
  {
   "cell_type": "code",
   "execution_count": 36,
   "metadata": {},
   "outputs": [
    {
     "name": "stdout",
     "output_type": "stream",
     "text": [
      "[[2.]\n",
      " [0.]]\n"
     ]
    }
   ],
   "source": [
    "a = np.array([[1], [0]])\n",
    "b = np.array([[2], [1]])\n",
    "ab_dot = np.dot(a.T, b)[0, 0]\n",
    "a_norm = la.norm(a)\n",
    "b_proj = ab_dot / (a_norm**2) * a\n",
    "print(b_proj)"
   ]
  },
  {
   "cell_type": "markdown",
   "metadata": {},
   "source": [
    "### 1.2.7 Outer (cross) product\n",
    "\n",
    "Cross product of two vectors results in a third vector perpendicular to any of the two.\n",
    "$$\\begin{align*}\n",
    "a&=(a_1,a_2,a_3)\\\\\n",
    "b&=(b_1,b_2,b_3)\\\\\n",
    "a\\times b&=(a_2b_3-a_3b_2,a_3b_1-a_1b_3,a_1b_2-a_2b_1)\\\\\n",
    "\\left\\| a\\times b \\right\\|&=\\left\\| a \\right\\|\\left\\| b \\right\\|\\sin(\\theta)\n",
    "\\end{align*}$$\n",
    "If $a$ and $b$ are parallel, then their corss product is $0$."
   ]
  },
  {
   "cell_type": "code",
   "execution_count": 39,
   "metadata": {},
   "outputs": [
    {
     "name": "stdout",
     "output_type": "stream",
     "text": [
      "[[ 5]\n",
      " [ 1]\n",
      " [11]]\n"
     ]
    }
   ],
   "source": [
    "a = np.array([[2], [1], [-1]])\n",
    "b = np.array([[-3], [4], [1]])\n",
    "ab_cross = np.cross(a.T,b.T).T # for 3d vector cross product, np.cross only support row vectors\n",
    "print(ab_cross)"
   ]
  }
 ],
 "metadata": {
  "kernelspec": {
   "display_name": "ZZ_ML",
   "language": "python",
   "name": "python3"
  },
  "language_info": {
   "codemirror_mode": {
    "name": "ipython",
    "version": 3
   },
   "file_extension": ".py",
   "mimetype": "text/x-python",
   "name": "python",
   "nbconvert_exporter": "python",
   "pygments_lexer": "ipython3",
   "version": "3.10.13"
  }
 },
 "nbformat": 4,
 "nbformat_minor": 2
}
